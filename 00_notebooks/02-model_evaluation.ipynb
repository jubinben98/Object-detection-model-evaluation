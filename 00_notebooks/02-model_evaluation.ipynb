{
  "cells": [
    {
      "cell_type": "code",
      "execution_count": 1,
      "metadata": {
        "id": "iFo_i9XUUU_3"
      },
      "outputs": [],
      "source": [
        "import os\n",
        "os.chdir(\"/content/drive/MyDrive/Colab Notebooks/Object-detection-model-evaluation/product/\")\n",
        "import numpy as np\n",
        "import pickle\n",
        "\n",
        "from matplotlib import pyplot as plt\n",
        "from object_detection import ObjectDetect\n",
        "from object_detection_utils import cal_recall_precision"
      ]
    },
    {
      "cell_type": "code",
      "execution_count": 13,
      "metadata": {
        "id": "mq1I4_nocSzA"
      },
      "outputs": [],
      "source": [
        "def plot_recall_conf_curve(recall, thresholds):\n",
        "    \n",
        "    plt.plot(thresholds, recall, linewidth=2, color=\"red\", zorder=0)\n",
        "    plt.scatter(thresholds, recall)\n",
        "\n",
        "    for i in range(len(thresholds)):\n",
        "        plt.annotate(\"   %.2f\"%thresholds[i], (thresholds[i], recall[i]))\n",
        "\n",
        "    plt.xlabel(\"Confidence\", fontsize=12, fontweight='bold')\n",
        "    plt.ylabel(\"Recall\", fontsize=12, fontweight='bold')\n",
        "    plt.title(\"Recall-conf\", fontsize=15, fontweight=\"bold\")\n",
        "    plt.show()\n",
        "\n",
        "def plot_precision_conf_curve(precision, thresholds):\n",
        "    \n",
        "    plt.plot(thresholds, precision, linewidth=2, color=\"red\", zorder=0)\n",
        "    plt.scatter(thresholds, precision)\n",
        "\n",
        "    for i in range(len(thresholds)):\n",
        "        plt.annotate(\"   %.2f\"%thresholds[i], (thresholds[i], precision[i]))\n",
        "\n",
        "    plt.xlabel(\"Confidence\", fontsize=12, fontweight='bold')\n",
        "    plt.ylabel(\"Precision\", fontsize=12, fontweight='bold')\n",
        "    plt.title(\"Precision-conf\", fontsize=15, fontweight=\"bold\")\n",
        "    plt.show()\n",
        "\n",
        "def plot_precision_recall_curve(recall, precision, thresholds):\n",
        "    \n",
        "    plt.plot(recall, precision, linewidth=2, color=\"red\", zorder=0)\n",
        "    plt.scatter(recall, precision)\n",
        "\n",
        "    for i in range(len(thresholds)):\n",
        "        plt.annotate(\"   %.2f\"%thresholds[i], (recall[i], precision[i]))\n",
        "\n",
        "    plt.xlabel(\"Recall\", fontsize=12, fontweight='bold')\n",
        "    plt.ylabel(\"Precision\", fontsize=12, fontweight='bold')\n",
        "    plt.title(\"Precision-Recall Curve\", fontsize=15, fontweight=\"bold\")\n",
        "    plt.show()"
      ]
    },
    {
      "cell_type": "code",
      "execution_count": 3,
      "metadata": {
        "colab": {
          "base_uri": "https://localhost:8080/",
          "height": 52
        },
        "id": "hG1dApa0eEm4",
        "outputId": "03ff3d35-d10d-4ae6-a16a-0e9cfabae92d"
      },
      "outputs": [
        {
          "data": {
            "application/vnd.google.colaboratory.intrinsic+json": {
              "type": "string"
            },
            "text/plain": [
              "'\\ncars_iou_th         = 0.5, 0.5, 0.5, 0.5, 0.5, 0.5, 0.5, 0.5, 0.5, 0.5, 0.5, 0.5, 0.5, 0.5\\ncars_conf_th        = 0.2, 0.25, 0.3, 0.35, 0.4, 0.45, 0.5, 0.55, 0.6, 0.65, 0.7, 0.75, 0.8, 0.85\\npedestrians_iou_th  = 0.5, 0.5, 0.5, 0.5, 0.5, 0.5, 0.5, 0.5, 0.5, 0.5, 0.5, 0.5, 0.5, 0.5\\npedestrians_conf_th = 0.2, 0.25, 0.3, 0.35, 0.4, 0.45, 0.5, 0.55, 0.6, 0.65, 0.7, 0.75, 0.8, 0.85\\n'"
            ]
          },
          "execution_count": 3,
          "metadata": {},
          "output_type": "execute_result"
        }
      ],
      "source": [
        "# Thresholds used for evaluation (mentioned in the confg.ini during execution)\n",
        "\"\"\"\n",
        "cars_iou_th         = 0.5, 0.5, 0.5, 0.5, 0.5, 0.5, 0.5, 0.5, 0.5, 0.5, 0.5, 0.5, 0.5, 0.5\n",
        "cars_conf_th        = 0.2, 0.25, 0.3, 0.35, 0.4, 0.45, 0.5, 0.55, 0.6, 0.65, 0.7, 0.75, 0.8, 0.85\n",
        "pedestrians_iou_th  = 0.5, 0.5, 0.5, 0.5, 0.5, 0.5, 0.5, 0.5, 0.5, 0.5, 0.5, 0.5, 0.5, 0.5\n",
        "pedestrians_conf_th = 0.2, 0.25, 0.3, 0.35, 0.4, 0.45, 0.5, 0.55, 0.6, 0.65, 0.7, 0.75, 0.8, 0.85\n",
        "\"\"\""
      ]
    },
    {
      "cell_type": "code",
      "execution_count": 4,
      "metadata": {
        "colab": {
          "base_uri": "https://localhost:8080/"
        },
        "id": "gQYEZVVNcVy6",
        "outputId": "a0228a39-70c0-4952-bddf-bbae0cdf0632"
      },
      "outputs": [
        {
          "name": "stdout",
          "output_type": "stream",
          "text": [
            "2023-03-19 17:24:28,223 INFO    object_detection.py:24      : Loading the model\n"
          ]
        },
        {
          "name": "stderr",
          "output_type": "stream",
          "text": [
            "INFO:PalletDetection:Loading the model\n"
          ]
        },
        {
          "name": "stdout",
          "output_type": "stream",
          "text": [
            "2023-03-19 17:24:41,509 DEBUG   object_detection_load_model.py:21 : [<tf.Tensor 'image_tensor:0' shape=(None, None, None, 3) dtype=uint8>]\n"
          ]
        },
        {
          "name": "stderr",
          "output_type": "stream",
          "text": [
            "DEBUG:PalletDetection:[<tf.Tensor 'image_tensor:0' shape=(None, None, None, 3) dtype=uint8>]\n"
          ]
        },
        {
          "name": "stdout",
          "output_type": "stream",
          "text": [
            "2023-03-19 17:24:41,519 DEBUG   object_detection_load_model.py:22 : {'detection_boxes': tf.float32, 'detection_classes': tf.float32, 'detection_scores': tf.float32, 'num_detections': tf.float32}\n"
          ]
        },
        {
          "name": "stderr",
          "output_type": "stream",
          "text": [
            "DEBUG:PalletDetection:{'detection_boxes': tf.float32, 'detection_classes': tf.float32, 'detection_scores': tf.float32, 'num_detections': tf.float32}\n"
          ]
        },
        {
          "name": "stdout",
          "output_type": "stream",
          "text": [
            "2023-03-19 17:24:41,526 DEBUG   object_detection_load_model.py:23 : {'detection_boxes': TensorShape([None, 100, 4]), 'detection_classes': TensorShape([None, 100]), 'detection_scores': TensorShape([None, 100]), 'num_detections': TensorShape([None])}\n"
          ]
        },
        {
          "name": "stderr",
          "output_type": "stream",
          "text": [
            "DEBUG:PalletDetection:{'detection_boxes': TensorShape([None, 100, 4]), 'detection_classes': TensorShape([None, 100]), 'detection_scores': TensorShape([None, 100]), 'num_detections': TensorShape([None])}\n"
          ]
        },
        {
          "name": "stdout",
          "output_type": "stream",
          "text": [
            "2023-03-19 17:24:41,531 INFO    object_detection.py:36      : Loading the dataset\n"
          ]
        },
        {
          "name": "stderr",
          "output_type": "stream",
          "text": [
            "INFO:PalletDetection:Loading the dataset\n"
          ]
        },
        {
          "name": "stdout",
          "output_type": "stream",
          "text": [
            "2023-03-19 17:24:41,559 INFO    object_detection_data.py:29 : Number of test images found: 100\n"
          ]
        },
        {
          "name": "stderr",
          "output_type": "stream",
          "text": [
            "INFO:PalletDetection:Number of test images found: 100\n"
          ]
        },
        {
          "name": "stdout",
          "output_type": "stream",
          "text": [
            "2023-03-19 17:24:41,572 DEBUG   object_detection_data.py:34 : Reading the images and their respective JSONs\n"
          ]
        },
        {
          "name": "stderr",
          "output_type": "stream",
          "text": [
            "DEBUG:PalletDetection:Reading the images and their respective JSONs\n"
          ]
        },
        {
          "name": "stdout",
          "output_type": "stream",
          "text": [
            "2023-03-19 17:24:43,639 INFO    object_detection.py:39      : Model prediction started\n"
          ]
        },
        {
          "name": "stderr",
          "output_type": "stream",
          "text": [
            "INFO:PalletDetection:Model prediction started\n"
          ]
        },
        {
          "name": "stdout",
          "output_type": "stream",
          "text": [
            "2023-03-19 17:24:43,643 INFO    object_detection_load_model.py:137 : Running model evaluation for with following configurations\n"
          ]
        },
        {
          "name": "stderr",
          "output_type": "stream",
          "text": [
            "INFO:PalletDetection:Running model evaluation for with following configurations\n"
          ]
        },
        {
          "name": "stdout",
          "output_type": "stream",
          "text": [
            "2023-03-19 17:24:43,655 INFO    object_detection_load_model.py:138 : Cars-confidence threshold:  0.200,  Cars-IOU threshold : 0.500\n"
          ]
        },
        {
          "name": "stderr",
          "output_type": "stream",
          "text": [
            "INFO:PalletDetection:Cars-confidence threshold:  0.200,  Cars-IOU threshold : 0.500\n"
          ]
        },
        {
          "name": "stdout",
          "output_type": "stream",
          "text": [
            "2023-03-19 17:24:43,663 INFO    object_detection_load_model.py:140 : Pedst-confidence threshold: 0.200,  Pedst-IOU threshold: 0.500\n"
          ]
        },
        {
          "name": "stderr",
          "output_type": "stream",
          "text": [
            "INFO:PalletDetection:Pedst-confidence threshold: 0.200,  Pedst-IOU threshold: 0.500\n"
          ]
        },
        {
          "name": "stdout",
          "output_type": "stream",
          "text": [
            "2023-03-19 17:25:04,916 DEBUG   object_detection_load_model.py:41 : Time taken for prediction: 4.71\n"
          ]
        },
        {
          "name": "stderr",
          "output_type": "stream",
          "text": [
            "DEBUG:PalletDetection:Time taken for prediction: 4.71\n"
          ]
        },
        {
          "name": "stdout",
          "output_type": "stream",
          "text": [
            "2023-03-19 17:25:04,920 DEBUG   object_detection_load_model.py:42 : Model output shape: (100, 100, 4)\n"
          ]
        },
        {
          "name": "stderr",
          "output_type": "stream",
          "text": [
            "DEBUG:PalletDetection:Model output shape: (100, 100, 4)\n"
          ]
        },
        {
          "name": "stdout",
          "output_type": "stream",
          "text": [
            "2023-03-19 17:25:04,923 DEBUG   object_detection_load_model.py:45 : Categorizing the predictions\n"
          ]
        },
        {
          "name": "stderr",
          "output_type": "stream",
          "text": [
            "DEBUG:PalletDetection:Categorizing the predictions\n"
          ]
        },
        {
          "name": "stdout",
          "output_type": "stream",
          "text": [
            "2023-03-19 17:25:05,258 DEBUG   object_detection_load_model.py:50 : Number of categorized predictions: 100\n"
          ]
        },
        {
          "name": "stderr",
          "output_type": "stream",
          "text": [
            "DEBUG:PalletDetection:Number of categorized predictions: 100\n"
          ]
        },
        {
          "name": "stdout",
          "output_type": "stream",
          "text": [
            "2023-03-19 17:25:05,263 DEBUG   object_detection_load_model.py:53 : Filtering the predictions based on their confidence threshold\n"
          ]
        },
        {
          "name": "stderr",
          "output_type": "stream",
          "text": [
            "DEBUG:PalletDetection:Filtering the predictions based on their confidence threshold\n"
          ]
        },
        {
          "name": "stdout",
          "output_type": "stream",
          "text": [
            "2023-03-19 17:25:05,275 DEBUG   object_detection_load_model.py:65 : Number of predictions after filtration process: 100\n"
          ]
        },
        {
          "name": "stderr",
          "output_type": "stream",
          "text": [
            "DEBUG:PalletDetection:Number of predictions after filtration process: 100\n"
          ]
        },
        {
          "name": "stdout",
          "output_type": "stream",
          "text": [
            "2023-03-19 17:25:05,278 INFO    object_detection_load_model.py:82 : Calculating the TP, FP and FN of the predictions\n"
          ]
        },
        {
          "name": "stderr",
          "output_type": "stream",
          "text": [
            "INFO:PalletDetection:Calculating the TP, FP and FN of the predictions\n"
          ]
        },
        {
          "name": "stdout",
          "output_type": "stream",
          "text": [
            "2023-03-19 17:25:05,383 DEBUG   object_detection_load_model.py:109 : Car's evaluation: 0.38, 0.47\n"
          ]
        },
        {
          "name": "stderr",
          "output_type": "stream",
          "text": [
            "DEBUG:PalletDetection:Car's evaluation: 0.38, 0.47\n"
          ]
        },
        {
          "name": "stdout",
          "output_type": "stream",
          "text": [
            "2023-03-19 17:25:05,387 DEBUG   object_detection_load_model.py:112 : Pedestrians's evaluation: 0.23, 0.19\n"
          ]
        },
        {
          "name": "stderr",
          "output_type": "stream",
          "text": [
            "DEBUG:PalletDetection:Pedestrians's evaluation: 0.23, 0.19\n"
          ]
        },
        {
          "name": "stdout",
          "output_type": "stream",
          "text": [
            "2023-03-19 17:25:05,391 INFO    object_detection_load_model.py:137 : Running model evaluation for with following configurations\n"
          ]
        },
        {
          "name": "stderr",
          "output_type": "stream",
          "text": [
            "INFO:PalletDetection:Running model evaluation for with following configurations\n"
          ]
        },
        {
          "name": "stdout",
          "output_type": "stream",
          "text": [
            "2023-03-19 17:25:05,395 INFO    object_detection_load_model.py:138 : Cars-confidence threshold:  0.250,  Cars-IOU threshold : 0.500\n"
          ]
        },
        {
          "name": "stderr",
          "output_type": "stream",
          "text": [
            "INFO:PalletDetection:Cars-confidence threshold:  0.250,  Cars-IOU threshold : 0.500\n"
          ]
        },
        {
          "name": "stdout",
          "output_type": "stream",
          "text": [
            "2023-03-19 17:25:05,399 INFO    object_detection_load_model.py:140 : Pedst-confidence threshold: 0.250,  Pedst-IOU threshold: 0.500\n"
          ]
        },
        {
          "name": "stderr",
          "output_type": "stream",
          "text": [
            "INFO:PalletDetection:Pedst-confidence threshold: 0.250,  Pedst-IOU threshold: 0.500\n"
          ]
        },
        {
          "name": "stdout",
          "output_type": "stream",
          "text": [
            "2023-03-19 17:25:13,439 DEBUG   object_detection_load_model.py:41 : Time taken for prediction: 12.44\n"
          ]
        },
        {
          "name": "stderr",
          "output_type": "stream",
          "text": [
            "DEBUG:PalletDetection:Time taken for prediction: 12.44\n"
          ]
        },
        {
          "name": "stdout",
          "output_type": "stream",
          "text": [
            "2023-03-19 17:25:13,448 DEBUG   object_detection_load_model.py:42 : Model output shape: (100, 100, 4)\n"
          ]
        },
        {
          "name": "stderr",
          "output_type": "stream",
          "text": [
            "DEBUG:PalletDetection:Model output shape: (100, 100, 4)\n"
          ]
        },
        {
          "name": "stdout",
          "output_type": "stream",
          "text": [
            "2023-03-19 17:25:13,452 DEBUG   object_detection_load_model.py:45 : Categorizing the predictions\n"
          ]
        },
        {
          "name": "stderr",
          "output_type": "stream",
          "text": [
            "DEBUG:PalletDetection:Categorizing the predictions\n"
          ]
        },
        {
          "name": "stdout",
          "output_type": "stream",
          "text": [
            "2023-03-19 17:25:13,907 DEBUG   object_detection_load_model.py:50 : Number of categorized predictions: 100\n"
          ]
        },
        {
          "name": "stderr",
          "output_type": "stream",
          "text": [
            "DEBUG:PalletDetection:Number of categorized predictions: 100\n"
          ]
        },
        {
          "name": "stdout",
          "output_type": "stream",
          "text": [
            "2023-03-19 17:25:13,916 DEBUG   object_detection_load_model.py:53 : Filtering the predictions based on their confidence threshold\n"
          ]
        },
        {
          "name": "stderr",
          "output_type": "stream",
          "text": [
            "DEBUG:PalletDetection:Filtering the predictions based on their confidence threshold\n"
          ]
        },
        {
          "name": "stdout",
          "output_type": "stream",
          "text": [
            "2023-03-19 17:25:13,926 DEBUG   object_detection_load_model.py:65 : Number of predictions after filtration process: 100\n"
          ]
        },
        {
          "name": "stderr",
          "output_type": "stream",
          "text": [
            "DEBUG:PalletDetection:Number of predictions after filtration process: 100\n"
          ]
        },
        {
          "name": "stdout",
          "output_type": "stream",
          "text": [
            "2023-03-19 17:25:13,931 INFO    object_detection_load_model.py:82 : Calculating the TP, FP and FN of the predictions\n"
          ]
        },
        {
          "name": "stderr",
          "output_type": "stream",
          "text": [
            "INFO:PalletDetection:Calculating the TP, FP and FN of the predictions\n"
          ]
        },
        {
          "name": "stdout",
          "output_type": "stream",
          "text": [
            "2023-03-19 17:25:14,017 DEBUG   object_detection_load_model.py:109 : Car's evaluation: 0.41, 0.45\n"
          ]
        },
        {
          "name": "stderr",
          "output_type": "stream",
          "text": [
            "DEBUG:PalletDetection:Car's evaluation: 0.41, 0.45\n"
          ]
        },
        {
          "name": "stdout",
          "output_type": "stream",
          "text": [
            "2023-03-19 17:25:14,021 DEBUG   object_detection_load_model.py:112 : Pedestrians's evaluation: 0.24, 0.18\n"
          ]
        },
        {
          "name": "stderr",
          "output_type": "stream",
          "text": [
            "DEBUG:PalletDetection:Pedestrians's evaluation: 0.24, 0.18\n"
          ]
        },
        {
          "name": "stdout",
          "output_type": "stream",
          "text": [
            "2023-03-19 17:25:14,029 INFO    object_detection_load_model.py:137 : Running model evaluation for with following configurations\n"
          ]
        },
        {
          "name": "stderr",
          "output_type": "stream",
          "text": [
            "INFO:PalletDetection:Running model evaluation for with following configurations\n"
          ]
        },
        {
          "name": "stdout",
          "output_type": "stream",
          "text": [
            "2023-03-19 17:25:14,033 INFO    object_detection_load_model.py:138 : Cars-confidence threshold:  0.300,  Cars-IOU threshold : 0.500\n"
          ]
        },
        {
          "name": "stderr",
          "output_type": "stream",
          "text": [
            "INFO:PalletDetection:Cars-confidence threshold:  0.300,  Cars-IOU threshold : 0.500\n"
          ]
        },
        {
          "name": "stdout",
          "output_type": "stream",
          "text": [
            "2023-03-19 17:25:14,039 INFO    object_detection_load_model.py:140 : Pedst-confidence threshold: 0.300,  Pedst-IOU threshold: 0.500\n"
          ]
        },
        {
          "name": "stderr",
          "output_type": "stream",
          "text": [
            "INFO:PalletDetection:Pedst-confidence threshold: 0.300,  Pedst-IOU threshold: 0.500\n"
          ]
        },
        {
          "name": "stdout",
          "output_type": "stream",
          "text": [
            "2023-03-19 17:25:21,805 DEBUG   object_detection_load_model.py:41 : Time taken for prediction: 12.88\n"
          ]
        },
        {
          "name": "stderr",
          "output_type": "stream",
          "text": [
            "DEBUG:PalletDetection:Time taken for prediction: 12.88\n"
          ]
        },
        {
          "name": "stdout",
          "output_type": "stream",
          "text": [
            "2023-03-19 17:25:21,808 DEBUG   object_detection_load_model.py:42 : Model output shape: (100, 100, 4)\n"
          ]
        },
        {
          "name": "stderr",
          "output_type": "stream",
          "text": [
            "DEBUG:PalletDetection:Model output shape: (100, 100, 4)\n"
          ]
        },
        {
          "name": "stdout",
          "output_type": "stream",
          "text": [
            "2023-03-19 17:25:21,810 DEBUG   object_detection_load_model.py:45 : Categorizing the predictions\n"
          ]
        },
        {
          "name": "stderr",
          "output_type": "stream",
          "text": [
            "DEBUG:PalletDetection:Categorizing the predictions\n"
          ]
        },
        {
          "name": "stdout",
          "output_type": "stream",
          "text": [
            "2023-03-19 17:25:22,222 DEBUG   object_detection_load_model.py:50 : Number of categorized predictions: 100\n"
          ]
        },
        {
          "name": "stderr",
          "output_type": "stream",
          "text": [
            "DEBUG:PalletDetection:Number of categorized predictions: 100\n"
          ]
        },
        {
          "name": "stdout",
          "output_type": "stream",
          "text": [
            "2023-03-19 17:25:22,226 DEBUG   object_detection_load_model.py:53 : Filtering the predictions based on their confidence threshold\n"
          ]
        },
        {
          "name": "stderr",
          "output_type": "stream",
          "text": [
            "DEBUG:PalletDetection:Filtering the predictions based on their confidence threshold\n"
          ]
        },
        {
          "name": "stdout",
          "output_type": "stream",
          "text": [
            "2023-03-19 17:25:22,235 DEBUG   object_detection_load_model.py:65 : Number of predictions after filtration process: 100\n"
          ]
        },
        {
          "name": "stderr",
          "output_type": "stream",
          "text": [
            "DEBUG:PalletDetection:Number of predictions after filtration process: 100\n"
          ]
        },
        {
          "name": "stdout",
          "output_type": "stream",
          "text": [
            "2023-03-19 17:25:22,238 INFO    object_detection_load_model.py:82 : Calculating the TP, FP and FN of the predictions\n"
          ]
        },
        {
          "name": "stderr",
          "output_type": "stream",
          "text": [
            "INFO:PalletDetection:Calculating the TP, FP and FN of the predictions\n"
          ]
        },
        {
          "name": "stdout",
          "output_type": "stream",
          "text": [
            "2023-03-19 17:25:22,367 DEBUG   object_detection_load_model.py:109 : Car's evaluation: 0.45, 0.43\n"
          ]
        },
        {
          "name": "stderr",
          "output_type": "stream",
          "text": [
            "DEBUG:PalletDetection:Car's evaluation: 0.45, 0.43\n"
          ]
        },
        {
          "name": "stdout",
          "output_type": "stream",
          "text": [
            "2023-03-19 17:25:22,370 DEBUG   object_detection_load_model.py:112 : Pedestrians's evaluation: 0.24, 0.17\n"
          ]
        },
        {
          "name": "stderr",
          "output_type": "stream",
          "text": [
            "DEBUG:PalletDetection:Pedestrians's evaluation: 0.24, 0.17\n"
          ]
        },
        {
          "name": "stdout",
          "output_type": "stream",
          "text": [
            "2023-03-19 17:25:22,374 INFO    object_detection_load_model.py:137 : Running model evaluation for with following configurations\n"
          ]
        },
        {
          "name": "stderr",
          "output_type": "stream",
          "text": [
            "INFO:PalletDetection:Running model evaluation for with following configurations\n"
          ]
        },
        {
          "name": "stdout",
          "output_type": "stream",
          "text": [
            "2023-03-19 17:25:22,376 INFO    object_detection_load_model.py:138 : Cars-confidence threshold:  0.350,  Cars-IOU threshold : 0.500\n"
          ]
        },
        {
          "name": "stderr",
          "output_type": "stream",
          "text": [
            "INFO:PalletDetection:Cars-confidence threshold:  0.350,  Cars-IOU threshold : 0.500\n"
          ]
        },
        {
          "name": "stdout",
          "output_type": "stream",
          "text": [
            "2023-03-19 17:25:22,378 INFO    object_detection_load_model.py:140 : Pedst-confidence threshold: 0.350,  Pedst-IOU threshold: 0.500\n"
          ]
        },
        {
          "name": "stderr",
          "output_type": "stream",
          "text": [
            "INFO:PalletDetection:Pedst-confidence threshold: 0.350,  Pedst-IOU threshold: 0.500\n"
          ]
        },
        {
          "name": "stdout",
          "output_type": "stream",
          "text": [
            "2023-03-19 17:25:29,771 DEBUG   object_detection_load_model.py:41 : Time taken for prediction: 13.53\n"
          ]
        },
        {
          "name": "stderr",
          "output_type": "stream",
          "text": [
            "DEBUG:PalletDetection:Time taken for prediction: 13.53\n"
          ]
        },
        {
          "name": "stdout",
          "output_type": "stream",
          "text": [
            "2023-03-19 17:25:29,778 DEBUG   object_detection_load_model.py:42 : Model output shape: (100, 100, 4)\n"
          ]
        },
        {
          "name": "stderr",
          "output_type": "stream",
          "text": [
            "DEBUG:PalletDetection:Model output shape: (100, 100, 4)\n"
          ]
        },
        {
          "name": "stdout",
          "output_type": "stream",
          "text": [
            "2023-03-19 17:25:29,781 DEBUG   object_detection_load_model.py:45 : Categorizing the predictions\n"
          ]
        },
        {
          "name": "stderr",
          "output_type": "stream",
          "text": [
            "DEBUG:PalletDetection:Categorizing the predictions\n"
          ]
        },
        {
          "name": "stdout",
          "output_type": "stream",
          "text": [
            "2023-03-19 17:25:30,108 DEBUG   object_detection_load_model.py:50 : Number of categorized predictions: 100\n"
          ]
        },
        {
          "name": "stderr",
          "output_type": "stream",
          "text": [
            "DEBUG:PalletDetection:Number of categorized predictions: 100\n"
          ]
        },
        {
          "name": "stdout",
          "output_type": "stream",
          "text": [
            "2023-03-19 17:25:30,114 DEBUG   object_detection_load_model.py:53 : Filtering the predictions based on their confidence threshold\n"
          ]
        },
        {
          "name": "stderr",
          "output_type": "stream",
          "text": [
            "DEBUG:PalletDetection:Filtering the predictions based on their confidence threshold\n"
          ]
        },
        {
          "name": "stdout",
          "output_type": "stream",
          "text": [
            "2023-03-19 17:25:30,126 DEBUG   object_detection_load_model.py:65 : Number of predictions after filtration process: 100\n"
          ]
        },
        {
          "name": "stderr",
          "output_type": "stream",
          "text": [
            "DEBUG:PalletDetection:Number of predictions after filtration process: 100\n"
          ]
        },
        {
          "name": "stdout",
          "output_type": "stream",
          "text": [
            "2023-03-19 17:25:30,130 INFO    object_detection_load_model.py:82 : Calculating the TP, FP and FN of the predictions\n"
          ]
        },
        {
          "name": "stderr",
          "output_type": "stream",
          "text": [
            "INFO:PalletDetection:Calculating the TP, FP and FN of the predictions\n"
          ]
        },
        {
          "name": "stdout",
          "output_type": "stream",
          "text": [
            "2023-03-19 17:25:30,195 DEBUG   object_detection_load_model.py:109 : Car's evaluation: 0.49, 0.42\n"
          ]
        },
        {
          "name": "stderr",
          "output_type": "stream",
          "text": [
            "DEBUG:PalletDetection:Car's evaluation: 0.49, 0.42\n"
          ]
        },
        {
          "name": "stdout",
          "output_type": "stream",
          "text": [
            "2023-03-19 17:25:30,201 DEBUG   object_detection_load_model.py:112 : Pedestrians's evaluation: 0.21, 0.15\n"
          ]
        },
        {
          "name": "stderr",
          "output_type": "stream",
          "text": [
            "DEBUG:PalletDetection:Pedestrians's evaluation: 0.21, 0.15\n"
          ]
        },
        {
          "name": "stdout",
          "output_type": "stream",
          "text": [
            "2023-03-19 17:25:30,208 INFO    object_detection_load_model.py:137 : Running model evaluation for with following configurations\n"
          ]
        },
        {
          "name": "stderr",
          "output_type": "stream",
          "text": [
            "INFO:PalletDetection:Running model evaluation for with following configurations\n"
          ]
        },
        {
          "name": "stdout",
          "output_type": "stream",
          "text": [
            "2023-03-19 17:25:30,214 INFO    object_detection_load_model.py:138 : Cars-confidence threshold:  0.400,  Cars-IOU threshold : 0.500\n"
          ]
        },
        {
          "name": "stderr",
          "output_type": "stream",
          "text": [
            "INFO:PalletDetection:Cars-confidence threshold:  0.400,  Cars-IOU threshold : 0.500\n"
          ]
        },
        {
          "name": "stdout",
          "output_type": "stream",
          "text": [
            "2023-03-19 17:25:30,220 INFO    object_detection_load_model.py:140 : Pedst-confidence threshold: 0.400,  Pedst-IOU threshold: 0.500\n"
          ]
        },
        {
          "name": "stderr",
          "output_type": "stream",
          "text": [
            "INFO:PalletDetection:Pedst-confidence threshold: 0.400,  Pedst-IOU threshold: 0.500\n"
          ]
        },
        {
          "name": "stdout",
          "output_type": "stream",
          "text": [
            "2023-03-19 17:25:37,812 DEBUG   object_detection_load_model.py:41 : Time taken for prediction: 13.18\n"
          ]
        },
        {
          "name": "stderr",
          "output_type": "stream",
          "text": [
            "DEBUG:PalletDetection:Time taken for prediction: 13.18\n"
          ]
        },
        {
          "name": "stdout",
          "output_type": "stream",
          "text": [
            "2023-03-19 17:25:37,816 DEBUG   object_detection_load_model.py:42 : Model output shape: (100, 100, 4)\n"
          ]
        },
        {
          "name": "stderr",
          "output_type": "stream",
          "text": [
            "DEBUG:PalletDetection:Model output shape: (100, 100, 4)\n"
          ]
        },
        {
          "name": "stdout",
          "output_type": "stream",
          "text": [
            "2023-03-19 17:25:37,818 DEBUG   object_detection_load_model.py:45 : Categorizing the predictions\n"
          ]
        },
        {
          "name": "stderr",
          "output_type": "stream",
          "text": [
            "DEBUG:PalletDetection:Categorizing the predictions\n"
          ]
        },
        {
          "name": "stdout",
          "output_type": "stream",
          "text": [
            "2023-03-19 17:25:38,139 DEBUG   object_detection_load_model.py:50 : Number of categorized predictions: 100\n"
          ]
        },
        {
          "name": "stderr",
          "output_type": "stream",
          "text": [
            "DEBUG:PalletDetection:Number of categorized predictions: 100\n"
          ]
        },
        {
          "name": "stdout",
          "output_type": "stream",
          "text": [
            "2023-03-19 17:25:38,146 DEBUG   object_detection_load_model.py:53 : Filtering the predictions based on their confidence threshold\n"
          ]
        },
        {
          "name": "stderr",
          "output_type": "stream",
          "text": [
            "DEBUG:PalletDetection:Filtering the predictions based on their confidence threshold\n"
          ]
        },
        {
          "name": "stdout",
          "output_type": "stream",
          "text": [
            "2023-03-19 17:25:38,157 DEBUG   object_detection_load_model.py:65 : Number of predictions after filtration process: 100\n"
          ]
        },
        {
          "name": "stderr",
          "output_type": "stream",
          "text": [
            "DEBUG:PalletDetection:Number of predictions after filtration process: 100\n"
          ]
        },
        {
          "name": "stdout",
          "output_type": "stream",
          "text": [
            "2023-03-19 17:25:38,163 INFO    object_detection_load_model.py:82 : Calculating the TP, FP and FN of the predictions\n"
          ]
        },
        {
          "name": "stderr",
          "output_type": "stream",
          "text": [
            "INFO:PalletDetection:Calculating the TP, FP and FN of the predictions\n"
          ]
        },
        {
          "name": "stdout",
          "output_type": "stream",
          "text": [
            "2023-03-19 17:25:38,225 DEBUG   object_detection_load_model.py:109 : Car's evaluation: 0.50, 0.41\n"
          ]
        },
        {
          "name": "stderr",
          "output_type": "stream",
          "text": [
            "DEBUG:PalletDetection:Car's evaluation: 0.50, 0.41\n"
          ]
        },
        {
          "name": "stdout",
          "output_type": "stream",
          "text": [
            "2023-03-19 17:25:38,232 DEBUG   object_detection_load_model.py:112 : Pedestrians's evaluation: 0.21, 0.13\n"
          ]
        },
        {
          "name": "stderr",
          "output_type": "stream",
          "text": [
            "DEBUG:PalletDetection:Pedestrians's evaluation: 0.21, 0.13\n"
          ]
        },
        {
          "name": "stdout",
          "output_type": "stream",
          "text": [
            "2023-03-19 17:25:38,239 INFO    object_detection_load_model.py:137 : Running model evaluation for with following configurations\n"
          ]
        },
        {
          "name": "stderr",
          "output_type": "stream",
          "text": [
            "INFO:PalletDetection:Running model evaluation for with following configurations\n"
          ]
        },
        {
          "name": "stdout",
          "output_type": "stream",
          "text": [
            "2023-03-19 17:25:38,241 INFO    object_detection_load_model.py:138 : Cars-confidence threshold:  0.450,  Cars-IOU threshold : 0.500\n"
          ]
        },
        {
          "name": "stderr",
          "output_type": "stream",
          "text": [
            "INFO:PalletDetection:Cars-confidence threshold:  0.450,  Cars-IOU threshold : 0.500\n"
          ]
        },
        {
          "name": "stdout",
          "output_type": "stream",
          "text": [
            "2023-03-19 17:25:38,248 INFO    object_detection_load_model.py:140 : Pedst-confidence threshold: 0.450,  Pedst-IOU threshold: 0.500\n"
          ]
        },
        {
          "name": "stderr",
          "output_type": "stream",
          "text": [
            "INFO:PalletDetection:Pedst-confidence threshold: 0.450,  Pedst-IOU threshold: 0.500\n"
          ]
        },
        {
          "name": "stdout",
          "output_type": "stream",
          "text": [
            "2023-03-19 17:25:44,687 DEBUG   object_detection_load_model.py:41 : Time taken for prediction: 15.54\n"
          ]
        },
        {
          "name": "stderr",
          "output_type": "stream",
          "text": [
            "DEBUG:PalletDetection:Time taken for prediction: 15.54\n"
          ]
        },
        {
          "name": "stdout",
          "output_type": "stream",
          "text": [
            "2023-03-19 17:25:44,692 DEBUG   object_detection_load_model.py:42 : Model output shape: (100, 100, 4)\n"
          ]
        },
        {
          "name": "stderr",
          "output_type": "stream",
          "text": [
            "DEBUG:PalletDetection:Model output shape: (100, 100, 4)\n"
          ]
        },
        {
          "name": "stdout",
          "output_type": "stream",
          "text": [
            "2023-03-19 17:25:44,694 DEBUG   object_detection_load_model.py:45 : Categorizing the predictions\n"
          ]
        },
        {
          "name": "stderr",
          "output_type": "stream",
          "text": [
            "DEBUG:PalletDetection:Categorizing the predictions\n"
          ]
        },
        {
          "name": "stdout",
          "output_type": "stream",
          "text": [
            "2023-03-19 17:25:45,028 DEBUG   object_detection_load_model.py:50 : Number of categorized predictions: 100\n"
          ]
        },
        {
          "name": "stderr",
          "output_type": "stream",
          "text": [
            "DEBUG:PalletDetection:Number of categorized predictions: 100\n"
          ]
        },
        {
          "name": "stdout",
          "output_type": "stream",
          "text": [
            "2023-03-19 17:25:45,034 DEBUG   object_detection_load_model.py:53 : Filtering the predictions based on their confidence threshold\n"
          ]
        },
        {
          "name": "stderr",
          "output_type": "stream",
          "text": [
            "DEBUG:PalletDetection:Filtering the predictions based on their confidence threshold\n"
          ]
        },
        {
          "name": "stdout",
          "output_type": "stream",
          "text": [
            "2023-03-19 17:25:45,046 DEBUG   object_detection_load_model.py:65 : Number of predictions after filtration process: 100\n"
          ]
        },
        {
          "name": "stderr",
          "output_type": "stream",
          "text": [
            "DEBUG:PalletDetection:Number of predictions after filtration process: 100\n"
          ]
        },
        {
          "name": "stdout",
          "output_type": "stream",
          "text": [
            "2023-03-19 17:25:45,052 INFO    object_detection_load_model.py:82 : Calculating the TP, FP and FN of the predictions\n"
          ]
        },
        {
          "name": "stderr",
          "output_type": "stream",
          "text": [
            "INFO:PalletDetection:Calculating the TP, FP and FN of the predictions\n"
          ]
        },
        {
          "name": "stdout",
          "output_type": "stream",
          "text": [
            "2023-03-19 17:25:45,105 DEBUG   object_detection_load_model.py:109 : Car's evaluation: 0.53, 0.38\n"
          ]
        },
        {
          "name": "stderr",
          "output_type": "stream",
          "text": [
            "DEBUG:PalletDetection:Car's evaluation: 0.53, 0.38\n"
          ]
        },
        {
          "name": "stdout",
          "output_type": "stream",
          "text": [
            "2023-03-19 17:25:45,116 DEBUG   object_detection_load_model.py:112 : Pedestrians's evaluation: 0.17, 0.12\n"
          ]
        },
        {
          "name": "stderr",
          "output_type": "stream",
          "text": [
            "DEBUG:PalletDetection:Pedestrians's evaluation: 0.17, 0.12\n"
          ]
        },
        {
          "name": "stdout",
          "output_type": "stream",
          "text": [
            "2023-03-19 17:25:45,123 INFO    object_detection_load_model.py:137 : Running model evaluation for with following configurations\n"
          ]
        },
        {
          "name": "stderr",
          "output_type": "stream",
          "text": [
            "INFO:PalletDetection:Running model evaluation for with following configurations\n"
          ]
        },
        {
          "name": "stdout",
          "output_type": "stream",
          "text": [
            "2023-03-19 17:25:45,130 INFO    object_detection_load_model.py:138 : Cars-confidence threshold:  0.500,  Cars-IOU threshold : 0.500\n"
          ]
        },
        {
          "name": "stderr",
          "output_type": "stream",
          "text": [
            "INFO:PalletDetection:Cars-confidence threshold:  0.500,  Cars-IOU threshold : 0.500\n"
          ]
        },
        {
          "name": "stdout",
          "output_type": "stream",
          "text": [
            "2023-03-19 17:25:45,135 INFO    object_detection_load_model.py:140 : Pedst-confidence threshold: 0.500,  Pedst-IOU threshold: 0.500\n"
          ]
        },
        {
          "name": "stderr",
          "output_type": "stream",
          "text": [
            "INFO:PalletDetection:Pedst-confidence threshold: 0.500,  Pedst-IOU threshold: 0.500\n"
          ]
        },
        {
          "name": "stdout",
          "output_type": "stream",
          "text": [
            "2023-03-19 17:25:52,336 DEBUG   object_detection_load_model.py:41 : Time taken for prediction: 13.90\n"
          ]
        },
        {
          "name": "stderr",
          "output_type": "stream",
          "text": [
            "DEBUG:PalletDetection:Time taken for prediction: 13.90\n"
          ]
        },
        {
          "name": "stdout",
          "output_type": "stream",
          "text": [
            "2023-03-19 17:25:52,343 DEBUG   object_detection_load_model.py:42 : Model output shape: (100, 100, 4)\n"
          ]
        },
        {
          "name": "stderr",
          "output_type": "stream",
          "text": [
            "DEBUG:PalletDetection:Model output shape: (100, 100, 4)\n"
          ]
        },
        {
          "name": "stdout",
          "output_type": "stream",
          "text": [
            "2023-03-19 17:25:52,347 DEBUG   object_detection_load_model.py:45 : Categorizing the predictions\n"
          ]
        },
        {
          "name": "stderr",
          "output_type": "stream",
          "text": [
            "DEBUG:PalletDetection:Categorizing the predictions\n"
          ]
        },
        {
          "name": "stdout",
          "output_type": "stream",
          "text": [
            "2023-03-19 17:25:52,666 DEBUG   object_detection_load_model.py:50 : Number of categorized predictions: 100\n"
          ]
        },
        {
          "name": "stderr",
          "output_type": "stream",
          "text": [
            "DEBUG:PalletDetection:Number of categorized predictions: 100\n"
          ]
        },
        {
          "name": "stdout",
          "output_type": "stream",
          "text": [
            "2023-03-19 17:25:52,671 DEBUG   object_detection_load_model.py:53 : Filtering the predictions based on their confidence threshold\n"
          ]
        },
        {
          "name": "stderr",
          "output_type": "stream",
          "text": [
            "DEBUG:PalletDetection:Filtering the predictions based on their confidence threshold\n"
          ]
        },
        {
          "name": "stdout",
          "output_type": "stream",
          "text": [
            "2023-03-19 17:25:52,682 DEBUG   object_detection_load_model.py:65 : Number of predictions after filtration process: 100\n"
          ]
        },
        {
          "name": "stderr",
          "output_type": "stream",
          "text": [
            "DEBUG:PalletDetection:Number of predictions after filtration process: 100\n"
          ]
        },
        {
          "name": "stdout",
          "output_type": "stream",
          "text": [
            "2023-03-19 17:25:52,688 INFO    object_detection_load_model.py:82 : Calculating the TP, FP and FN of the predictions\n"
          ]
        },
        {
          "name": "stderr",
          "output_type": "stream",
          "text": [
            "INFO:PalletDetection:Calculating the TP, FP and FN of the predictions\n"
          ]
        },
        {
          "name": "stdout",
          "output_type": "stream",
          "text": [
            "2023-03-19 17:25:52,738 DEBUG   object_detection_load_model.py:109 : Car's evaluation: 0.56, 0.36\n"
          ]
        },
        {
          "name": "stderr",
          "output_type": "stream",
          "text": [
            "DEBUG:PalletDetection:Car's evaluation: 0.56, 0.36\n"
          ]
        },
        {
          "name": "stdout",
          "output_type": "stream",
          "text": [
            "2023-03-19 17:25:52,744 DEBUG   object_detection_load_model.py:112 : Pedestrians's evaluation: 0.18, 0.11\n"
          ]
        },
        {
          "name": "stderr",
          "output_type": "stream",
          "text": [
            "DEBUG:PalletDetection:Pedestrians's evaluation: 0.18, 0.11\n"
          ]
        },
        {
          "name": "stdout",
          "output_type": "stream",
          "text": [
            "2023-03-19 17:25:52,754 INFO    object_detection_load_model.py:137 : Running model evaluation for with following configurations\n"
          ]
        },
        {
          "name": "stderr",
          "output_type": "stream",
          "text": [
            "INFO:PalletDetection:Running model evaluation for with following configurations\n"
          ]
        },
        {
          "name": "stdout",
          "output_type": "stream",
          "text": [
            "2023-03-19 17:25:52,756 INFO    object_detection_load_model.py:138 : Cars-confidence threshold:  0.550,  Cars-IOU threshold : 0.500\n"
          ]
        },
        {
          "name": "stderr",
          "output_type": "stream",
          "text": [
            "INFO:PalletDetection:Cars-confidence threshold:  0.550,  Cars-IOU threshold : 0.500\n"
          ]
        },
        {
          "name": "stdout",
          "output_type": "stream",
          "text": [
            "2023-03-19 17:25:52,759 INFO    object_detection_load_model.py:140 : Pedst-confidence threshold: 0.550,  Pedst-IOU threshold: 0.500\n"
          ]
        },
        {
          "name": "stderr",
          "output_type": "stream",
          "text": [
            "INFO:PalletDetection:Pedst-confidence threshold: 0.550,  Pedst-IOU threshold: 0.500\n"
          ]
        },
        {
          "name": "stdout",
          "output_type": "stream",
          "text": [
            "2023-03-19 17:25:59,174 DEBUG   object_detection_load_model.py:41 : Time taken for prediction: 15.60\n"
          ]
        },
        {
          "name": "stderr",
          "output_type": "stream",
          "text": [
            "DEBUG:PalletDetection:Time taken for prediction: 15.60\n"
          ]
        },
        {
          "name": "stdout",
          "output_type": "stream",
          "text": [
            "2023-03-19 17:25:59,181 DEBUG   object_detection_load_model.py:42 : Model output shape: (100, 100, 4)\n"
          ]
        },
        {
          "name": "stderr",
          "output_type": "stream",
          "text": [
            "DEBUG:PalletDetection:Model output shape: (100, 100, 4)\n"
          ]
        },
        {
          "name": "stdout",
          "output_type": "stream",
          "text": [
            "2023-03-19 17:25:59,185 DEBUG   object_detection_load_model.py:45 : Categorizing the predictions\n"
          ]
        },
        {
          "name": "stderr",
          "output_type": "stream",
          "text": [
            "DEBUG:PalletDetection:Categorizing the predictions\n"
          ]
        },
        {
          "name": "stdout",
          "output_type": "stream",
          "text": [
            "2023-03-19 17:25:59,510 DEBUG   object_detection_load_model.py:50 : Number of categorized predictions: 100\n"
          ]
        },
        {
          "name": "stderr",
          "output_type": "stream",
          "text": [
            "DEBUG:PalletDetection:Number of categorized predictions: 100\n"
          ]
        },
        {
          "name": "stdout",
          "output_type": "stream",
          "text": [
            "2023-03-19 17:25:59,517 DEBUG   object_detection_load_model.py:53 : Filtering the predictions based on their confidence threshold\n"
          ]
        },
        {
          "name": "stderr",
          "output_type": "stream",
          "text": [
            "DEBUG:PalletDetection:Filtering the predictions based on their confidence threshold\n"
          ]
        },
        {
          "name": "stdout",
          "output_type": "stream",
          "text": [
            "2023-03-19 17:25:59,525 DEBUG   object_detection_load_model.py:65 : Number of predictions after filtration process: 100\n"
          ]
        },
        {
          "name": "stderr",
          "output_type": "stream",
          "text": [
            "DEBUG:PalletDetection:Number of predictions after filtration process: 100\n"
          ]
        },
        {
          "name": "stdout",
          "output_type": "stream",
          "text": [
            "2023-03-19 17:25:59,529 INFO    object_detection_load_model.py:82 : Calculating the TP, FP and FN of the predictions\n"
          ]
        },
        {
          "name": "stderr",
          "output_type": "stream",
          "text": [
            "INFO:PalletDetection:Calculating the TP, FP and FN of the predictions\n"
          ]
        },
        {
          "name": "stdout",
          "output_type": "stream",
          "text": [
            "2023-03-19 17:25:59,574 DEBUG   object_detection_load_model.py:109 : Car's evaluation: 0.56, 0.33\n"
          ]
        },
        {
          "name": "stderr",
          "output_type": "stream",
          "text": [
            "DEBUG:PalletDetection:Car's evaluation: 0.56, 0.33\n"
          ]
        },
        {
          "name": "stdout",
          "output_type": "stream",
          "text": [
            "2023-03-19 17:25:59,576 DEBUG   object_detection_load_model.py:112 : Pedestrians's evaluation: 0.16, 0.10\n"
          ]
        },
        {
          "name": "stderr",
          "output_type": "stream",
          "text": [
            "DEBUG:PalletDetection:Pedestrians's evaluation: 0.16, 0.10\n"
          ]
        },
        {
          "name": "stdout",
          "output_type": "stream",
          "text": [
            "2023-03-19 17:25:59,583 INFO    object_detection_load_model.py:137 : Running model evaluation for with following configurations\n"
          ]
        },
        {
          "name": "stderr",
          "output_type": "stream",
          "text": [
            "INFO:PalletDetection:Running model evaluation for with following configurations\n"
          ]
        },
        {
          "name": "stdout",
          "output_type": "stream",
          "text": [
            "2023-03-19 17:25:59,589 INFO    object_detection_load_model.py:138 : Cars-confidence threshold:  0.600,  Cars-IOU threshold : 0.500\n"
          ]
        },
        {
          "name": "stderr",
          "output_type": "stream",
          "text": [
            "INFO:PalletDetection:Cars-confidence threshold:  0.600,  Cars-IOU threshold : 0.500\n"
          ]
        },
        {
          "name": "stdout",
          "output_type": "stream",
          "text": [
            "2023-03-19 17:25:59,593 INFO    object_detection_load_model.py:140 : Pedst-confidence threshold: 0.600,  Pedst-IOU threshold: 0.500\n"
          ]
        },
        {
          "name": "stderr",
          "output_type": "stream",
          "text": [
            "INFO:PalletDetection:Pedst-confidence threshold: 0.600,  Pedst-IOU threshold: 0.500\n"
          ]
        },
        {
          "name": "stdout",
          "output_type": "stream",
          "text": [
            "2023-03-19 17:26:06,897 DEBUG   object_detection_load_model.py:41 : Time taken for prediction: 13.69\n"
          ]
        },
        {
          "name": "stderr",
          "output_type": "stream",
          "text": [
            "DEBUG:PalletDetection:Time taken for prediction: 13.69\n"
          ]
        },
        {
          "name": "stdout",
          "output_type": "stream",
          "text": [
            "2023-03-19 17:26:06,904 DEBUG   object_detection_load_model.py:42 : Model output shape: (100, 100, 4)\n"
          ]
        },
        {
          "name": "stderr",
          "output_type": "stream",
          "text": [
            "DEBUG:PalletDetection:Model output shape: (100, 100, 4)\n"
          ]
        },
        {
          "name": "stdout",
          "output_type": "stream",
          "text": [
            "2023-03-19 17:26:06,910 DEBUG   object_detection_load_model.py:45 : Categorizing the predictions\n"
          ]
        },
        {
          "name": "stderr",
          "output_type": "stream",
          "text": [
            "DEBUG:PalletDetection:Categorizing the predictions\n"
          ]
        },
        {
          "name": "stdout",
          "output_type": "stream",
          "text": [
            "2023-03-19 17:26:07,235 DEBUG   object_detection_load_model.py:50 : Number of categorized predictions: 100\n"
          ]
        },
        {
          "name": "stderr",
          "output_type": "stream",
          "text": [
            "DEBUG:PalletDetection:Number of categorized predictions: 100\n"
          ]
        },
        {
          "name": "stdout",
          "output_type": "stream",
          "text": [
            "2023-03-19 17:26:07,241 DEBUG   object_detection_load_model.py:53 : Filtering the predictions based on their confidence threshold\n"
          ]
        },
        {
          "name": "stderr",
          "output_type": "stream",
          "text": [
            "DEBUG:PalletDetection:Filtering the predictions based on their confidence threshold\n"
          ]
        },
        {
          "name": "stdout",
          "output_type": "stream",
          "text": [
            "2023-03-19 17:26:07,255 DEBUG   object_detection_load_model.py:65 : Number of predictions after filtration process: 100\n"
          ]
        },
        {
          "name": "stderr",
          "output_type": "stream",
          "text": [
            "DEBUG:PalletDetection:Number of predictions after filtration process: 100\n"
          ]
        },
        {
          "name": "stdout",
          "output_type": "stream",
          "text": [
            "2023-03-19 17:26:07,259 INFO    object_detection_load_model.py:82 : Calculating the TP, FP and FN of the predictions\n"
          ]
        },
        {
          "name": "stderr",
          "output_type": "stream",
          "text": [
            "INFO:PalletDetection:Calculating the TP, FP and FN of the predictions\n"
          ]
        },
        {
          "name": "stdout",
          "output_type": "stream",
          "text": [
            "2023-03-19 17:26:07,312 DEBUG   object_detection_load_model.py:109 : Car's evaluation: 0.55, 0.30\n"
          ]
        },
        {
          "name": "stderr",
          "output_type": "stream",
          "text": [
            "DEBUG:PalletDetection:Car's evaluation: 0.55, 0.30\n"
          ]
        },
        {
          "name": "stdout",
          "output_type": "stream",
          "text": [
            "2023-03-19 17:26:07,315 DEBUG   object_detection_load_model.py:112 : Pedestrians's evaluation: 0.16, 0.10\n"
          ]
        },
        {
          "name": "stderr",
          "output_type": "stream",
          "text": [
            "DEBUG:PalletDetection:Pedestrians's evaluation: 0.16, 0.10\n"
          ]
        },
        {
          "name": "stdout",
          "output_type": "stream",
          "text": [
            "2023-03-19 17:26:07,322 INFO    object_detection_load_model.py:137 : Running model evaluation for with following configurations\n"
          ]
        },
        {
          "name": "stderr",
          "output_type": "stream",
          "text": [
            "INFO:PalletDetection:Running model evaluation for with following configurations\n"
          ]
        },
        {
          "name": "stdout",
          "output_type": "stream",
          "text": [
            "2023-03-19 17:26:07,325 INFO    object_detection_load_model.py:138 : Cars-confidence threshold:  0.650,  Cars-IOU threshold : 0.500\n"
          ]
        },
        {
          "name": "stderr",
          "output_type": "stream",
          "text": [
            "INFO:PalletDetection:Cars-confidence threshold:  0.650,  Cars-IOU threshold : 0.500\n"
          ]
        },
        {
          "name": "stdout",
          "output_type": "stream",
          "text": [
            "2023-03-19 17:26:07,328 INFO    object_detection_load_model.py:140 : Pedst-confidence threshold: 0.650,  Pedst-IOU threshold: 0.500\n"
          ]
        },
        {
          "name": "stderr",
          "output_type": "stream",
          "text": [
            "INFO:PalletDetection:Pedst-confidence threshold: 0.650,  Pedst-IOU threshold: 0.500\n"
          ]
        },
        {
          "name": "stdout",
          "output_type": "stream",
          "text": [
            "2023-03-19 17:26:13,662 DEBUG   object_detection_load_model.py:41 : Time taken for prediction: 15.79\n"
          ]
        },
        {
          "name": "stderr",
          "output_type": "stream",
          "text": [
            "DEBUG:PalletDetection:Time taken for prediction: 15.79\n"
          ]
        },
        {
          "name": "stdout",
          "output_type": "stream",
          "text": [
            "2023-03-19 17:26:13,669 DEBUG   object_detection_load_model.py:42 : Model output shape: (100, 100, 4)\n"
          ]
        },
        {
          "name": "stderr",
          "output_type": "stream",
          "text": [
            "DEBUG:PalletDetection:Model output shape: (100, 100, 4)\n"
          ]
        },
        {
          "name": "stdout",
          "output_type": "stream",
          "text": [
            "2023-03-19 17:26:13,676 DEBUG   object_detection_load_model.py:45 : Categorizing the predictions\n"
          ]
        },
        {
          "name": "stderr",
          "output_type": "stream",
          "text": [
            "DEBUG:PalletDetection:Categorizing the predictions\n"
          ]
        },
        {
          "name": "stdout",
          "output_type": "stream",
          "text": [
            "2023-03-19 17:26:14,122 DEBUG   object_detection_load_model.py:50 : Number of categorized predictions: 100\n"
          ]
        },
        {
          "name": "stderr",
          "output_type": "stream",
          "text": [
            "DEBUG:PalletDetection:Number of categorized predictions: 100\n"
          ]
        },
        {
          "name": "stdout",
          "output_type": "stream",
          "text": [
            "2023-03-19 17:26:14,126 DEBUG   object_detection_load_model.py:53 : Filtering the predictions based on their confidence threshold\n"
          ]
        },
        {
          "name": "stderr",
          "output_type": "stream",
          "text": [
            "DEBUG:PalletDetection:Filtering the predictions based on their confidence threshold\n"
          ]
        },
        {
          "name": "stdout",
          "output_type": "stream",
          "text": [
            "2023-03-19 17:26:14,137 DEBUG   object_detection_load_model.py:65 : Number of predictions after filtration process: 100\n"
          ]
        },
        {
          "name": "stderr",
          "output_type": "stream",
          "text": [
            "DEBUG:PalletDetection:Number of predictions after filtration process: 100\n"
          ]
        },
        {
          "name": "stdout",
          "output_type": "stream",
          "text": [
            "2023-03-19 17:26:14,144 INFO    object_detection_load_model.py:82 : Calculating the TP, FP and FN of the predictions\n"
          ]
        },
        {
          "name": "stderr",
          "output_type": "stream",
          "text": [
            "INFO:PalletDetection:Calculating the TP, FP and FN of the predictions\n"
          ]
        },
        {
          "name": "stdout",
          "output_type": "stream",
          "text": [
            "2023-03-19 17:26:14,204 DEBUG   object_detection_load_model.py:109 : Car's evaluation: 0.55, 0.28\n"
          ]
        },
        {
          "name": "stderr",
          "output_type": "stream",
          "text": [
            "DEBUG:PalletDetection:Car's evaluation: 0.55, 0.28\n"
          ]
        },
        {
          "name": "stdout",
          "output_type": "stream",
          "text": [
            "2023-03-19 17:26:14,207 DEBUG   object_detection_load_model.py:112 : Pedestrians's evaluation: 0.14, 0.09\n"
          ]
        },
        {
          "name": "stderr",
          "output_type": "stream",
          "text": [
            "DEBUG:PalletDetection:Pedestrians's evaluation: 0.14, 0.09\n"
          ]
        },
        {
          "name": "stdout",
          "output_type": "stream",
          "text": [
            "2023-03-19 17:26:14,210 INFO    object_detection_load_model.py:137 : Running model evaluation for with following configurations\n"
          ]
        },
        {
          "name": "stderr",
          "output_type": "stream",
          "text": [
            "INFO:PalletDetection:Running model evaluation for with following configurations\n"
          ]
        },
        {
          "name": "stdout",
          "output_type": "stream",
          "text": [
            "2023-03-19 17:26:14,213 INFO    object_detection_load_model.py:138 : Cars-confidence threshold:  0.700,  Cars-IOU threshold : 0.500\n"
          ]
        },
        {
          "name": "stderr",
          "output_type": "stream",
          "text": [
            "INFO:PalletDetection:Cars-confidence threshold:  0.700,  Cars-IOU threshold : 0.500\n"
          ]
        },
        {
          "name": "stdout",
          "output_type": "stream",
          "text": [
            "2023-03-19 17:26:14,218 INFO    object_detection_load_model.py:140 : Pedst-confidence threshold: 0.700,  Pedst-IOU threshold: 0.500\n"
          ]
        },
        {
          "name": "stderr",
          "output_type": "stream",
          "text": [
            "INFO:PalletDetection:Pedst-confidence threshold: 0.700,  Pedst-IOU threshold: 0.500\n"
          ]
        },
        {
          "name": "stdout",
          "output_type": "stream",
          "text": [
            "2023-03-19 17:26:21,027 DEBUG   object_detection_load_model.py:41 : Time taken for prediction: 14.69\n"
          ]
        },
        {
          "name": "stderr",
          "output_type": "stream",
          "text": [
            "DEBUG:PalletDetection:Time taken for prediction: 14.69\n"
          ]
        },
        {
          "name": "stdout",
          "output_type": "stream",
          "text": [
            "2023-03-19 17:26:21,031 DEBUG   object_detection_load_model.py:42 : Model output shape: (100, 100, 4)\n"
          ]
        },
        {
          "name": "stderr",
          "output_type": "stream",
          "text": [
            "DEBUG:PalletDetection:Model output shape: (100, 100, 4)\n"
          ]
        },
        {
          "name": "stdout",
          "output_type": "stream",
          "text": [
            "2023-03-19 17:26:21,033 DEBUG   object_detection_load_model.py:45 : Categorizing the predictions\n"
          ]
        },
        {
          "name": "stderr",
          "output_type": "stream",
          "text": [
            "DEBUG:PalletDetection:Categorizing the predictions\n"
          ]
        },
        {
          "name": "stdout",
          "output_type": "stream",
          "text": [
            "2023-03-19 17:26:21,574 DEBUG   object_detection_load_model.py:50 : Number of categorized predictions: 100\n"
          ]
        },
        {
          "name": "stderr",
          "output_type": "stream",
          "text": [
            "DEBUG:PalletDetection:Number of categorized predictions: 100\n"
          ]
        },
        {
          "name": "stdout",
          "output_type": "stream",
          "text": [
            "2023-03-19 17:26:21,578 DEBUG   object_detection_load_model.py:53 : Filtering the predictions based on their confidence threshold\n"
          ]
        },
        {
          "name": "stderr",
          "output_type": "stream",
          "text": [
            "DEBUG:PalletDetection:Filtering the predictions based on their confidence threshold\n"
          ]
        },
        {
          "name": "stdout",
          "output_type": "stream",
          "text": [
            "2023-03-19 17:26:21,585 DEBUG   object_detection_load_model.py:65 : Number of predictions after filtration process: 100\n"
          ]
        },
        {
          "name": "stderr",
          "output_type": "stream",
          "text": [
            "DEBUG:PalletDetection:Number of predictions after filtration process: 100\n"
          ]
        },
        {
          "name": "stdout",
          "output_type": "stream",
          "text": [
            "2023-03-19 17:26:21,589 INFO    object_detection_load_model.py:82 : Calculating the TP, FP and FN of the predictions\n"
          ]
        },
        {
          "name": "stderr",
          "output_type": "stream",
          "text": [
            "INFO:PalletDetection:Calculating the TP, FP and FN of the predictions\n"
          ]
        },
        {
          "name": "stdout",
          "output_type": "stream",
          "text": [
            "2023-03-19 17:26:21,634 DEBUG   object_detection_load_model.py:109 : Car's evaluation: 0.57, 0.25\n"
          ]
        },
        {
          "name": "stderr",
          "output_type": "stream",
          "text": [
            "DEBUG:PalletDetection:Car's evaluation: 0.57, 0.25\n"
          ]
        },
        {
          "name": "stdout",
          "output_type": "stream",
          "text": [
            "2023-03-19 17:26:21,636 DEBUG   object_detection_load_model.py:112 : Pedestrians's evaluation: 0.14, 0.08\n"
          ]
        },
        {
          "name": "stderr",
          "output_type": "stream",
          "text": [
            "DEBUG:PalletDetection:Pedestrians's evaluation: 0.14, 0.08\n"
          ]
        },
        {
          "name": "stdout",
          "output_type": "stream",
          "text": [
            "2023-03-19 17:26:21,642 INFO    object_detection_load_model.py:137 : Running model evaluation for with following configurations\n"
          ]
        },
        {
          "name": "stderr",
          "output_type": "stream",
          "text": [
            "INFO:PalletDetection:Running model evaluation for with following configurations\n"
          ]
        },
        {
          "name": "stdout",
          "output_type": "stream",
          "text": [
            "2023-03-19 17:26:21,645 INFO    object_detection_load_model.py:138 : Cars-confidence threshold:  0.750,  Cars-IOU threshold : 0.500\n"
          ]
        },
        {
          "name": "stderr",
          "output_type": "stream",
          "text": [
            "INFO:PalletDetection:Cars-confidence threshold:  0.750,  Cars-IOU threshold : 0.500\n"
          ]
        },
        {
          "name": "stdout",
          "output_type": "stream",
          "text": [
            "2023-03-19 17:26:21,647 INFO    object_detection_load_model.py:140 : Pedst-confidence threshold: 0.750,  Pedst-IOU threshold: 0.500\n"
          ]
        },
        {
          "name": "stderr",
          "output_type": "stream",
          "text": [
            "INFO:PalletDetection:Pedst-confidence threshold: 0.750,  Pedst-IOU threshold: 0.500\n"
          ]
        },
        {
          "name": "stdout",
          "output_type": "stream",
          "text": [
            "2023-03-19 17:26:28,307 DEBUG   object_detection_load_model.py:41 : Time taken for prediction: 15.02\n"
          ]
        },
        {
          "name": "stderr",
          "output_type": "stream",
          "text": [
            "DEBUG:PalletDetection:Time taken for prediction: 15.02\n"
          ]
        },
        {
          "name": "stdout",
          "output_type": "stream",
          "text": [
            "2023-03-19 17:26:28,311 DEBUG   object_detection_load_model.py:42 : Model output shape: (100, 100, 4)\n"
          ]
        },
        {
          "name": "stderr",
          "output_type": "stream",
          "text": [
            "DEBUG:PalletDetection:Model output shape: (100, 100, 4)\n"
          ]
        },
        {
          "name": "stdout",
          "output_type": "stream",
          "text": [
            "2023-03-19 17:26:28,312 DEBUG   object_detection_load_model.py:45 : Categorizing the predictions\n"
          ]
        },
        {
          "name": "stderr",
          "output_type": "stream",
          "text": [
            "DEBUG:PalletDetection:Categorizing the predictions\n"
          ]
        },
        {
          "name": "stdout",
          "output_type": "stream",
          "text": [
            "2023-03-19 17:26:28,753 DEBUG   object_detection_load_model.py:50 : Number of categorized predictions: 100\n"
          ]
        },
        {
          "name": "stderr",
          "output_type": "stream",
          "text": [
            "DEBUG:PalletDetection:Number of categorized predictions: 100\n"
          ]
        },
        {
          "name": "stdout",
          "output_type": "stream",
          "text": [
            "2023-03-19 17:26:28,763 DEBUG   object_detection_load_model.py:53 : Filtering the predictions based on their confidence threshold\n"
          ]
        },
        {
          "name": "stderr",
          "output_type": "stream",
          "text": [
            "DEBUG:PalletDetection:Filtering the predictions based on their confidence threshold\n"
          ]
        },
        {
          "name": "stdout",
          "output_type": "stream",
          "text": [
            "2023-03-19 17:26:28,771 DEBUG   object_detection_load_model.py:65 : Number of predictions after filtration process: 100\n"
          ]
        },
        {
          "name": "stderr",
          "output_type": "stream",
          "text": [
            "DEBUG:PalletDetection:Number of predictions after filtration process: 100\n"
          ]
        },
        {
          "name": "stdout",
          "output_type": "stream",
          "text": [
            "2023-03-19 17:26:28,778 INFO    object_detection_load_model.py:82 : Calculating the TP, FP and FN of the predictions\n"
          ]
        },
        {
          "name": "stderr",
          "output_type": "stream",
          "text": [
            "INFO:PalletDetection:Calculating the TP, FP and FN of the predictions\n"
          ]
        },
        {
          "name": "stdout",
          "output_type": "stream",
          "text": [
            "2023-03-19 17:26:28,831 DEBUG   object_detection_load_model.py:109 : Car's evaluation: 0.52, 0.21\n"
          ]
        },
        {
          "name": "stderr",
          "output_type": "stream",
          "text": [
            "DEBUG:PalletDetection:Car's evaluation: 0.52, 0.21\n"
          ]
        },
        {
          "name": "stdout",
          "output_type": "stream",
          "text": [
            "2023-03-19 17:26:28,836 DEBUG   object_detection_load_model.py:112 : Pedestrians's evaluation: 0.11, 0.06\n"
          ]
        },
        {
          "name": "stderr",
          "output_type": "stream",
          "text": [
            "DEBUG:PalletDetection:Pedestrians's evaluation: 0.11, 0.06\n"
          ]
        },
        {
          "name": "stdout",
          "output_type": "stream",
          "text": [
            "2023-03-19 17:26:28,840 INFO    object_detection_load_model.py:137 : Running model evaluation for with following configurations\n"
          ]
        },
        {
          "name": "stderr",
          "output_type": "stream",
          "text": [
            "INFO:PalletDetection:Running model evaluation for with following configurations\n"
          ]
        },
        {
          "name": "stdout",
          "output_type": "stream",
          "text": [
            "2023-03-19 17:26:28,843 INFO    object_detection_load_model.py:138 : Cars-confidence threshold:  0.800,  Cars-IOU threshold : 0.500\n"
          ]
        },
        {
          "name": "stderr",
          "output_type": "stream",
          "text": [
            "INFO:PalletDetection:Cars-confidence threshold:  0.800,  Cars-IOU threshold : 0.500\n"
          ]
        },
        {
          "name": "stdout",
          "output_type": "stream",
          "text": [
            "2023-03-19 17:26:28,846 INFO    object_detection_load_model.py:140 : Pedst-confidence threshold: 0.800,  Pedst-IOU threshold: 0.500\n"
          ]
        },
        {
          "name": "stderr",
          "output_type": "stream",
          "text": [
            "INFO:PalletDetection:Pedst-confidence threshold: 0.800,  Pedst-IOU threshold: 0.500\n"
          ]
        },
        {
          "name": "stdout",
          "output_type": "stream",
          "text": [
            "2023-03-19 17:26:35,562 DEBUG   object_detection_load_model.py:41 : Time taken for prediction: 14.89\n"
          ]
        },
        {
          "name": "stderr",
          "output_type": "stream",
          "text": [
            "DEBUG:PalletDetection:Time taken for prediction: 14.89\n"
          ]
        },
        {
          "name": "stdout",
          "output_type": "stream",
          "text": [
            "2023-03-19 17:26:35,565 DEBUG   object_detection_load_model.py:42 : Model output shape: (100, 100, 4)\n"
          ]
        },
        {
          "name": "stderr",
          "output_type": "stream",
          "text": [
            "DEBUG:PalletDetection:Model output shape: (100, 100, 4)\n"
          ]
        },
        {
          "name": "stdout",
          "output_type": "stream",
          "text": [
            "2023-03-19 17:26:35,572 DEBUG   object_detection_load_model.py:45 : Categorizing the predictions\n"
          ]
        },
        {
          "name": "stderr",
          "output_type": "stream",
          "text": [
            "DEBUG:PalletDetection:Categorizing the predictions\n"
          ]
        },
        {
          "name": "stdout",
          "output_type": "stream",
          "text": [
            "2023-03-19 17:26:35,899 DEBUG   object_detection_load_model.py:50 : Number of categorized predictions: 100\n"
          ]
        },
        {
          "name": "stderr",
          "output_type": "stream",
          "text": [
            "DEBUG:PalletDetection:Number of categorized predictions: 100\n"
          ]
        },
        {
          "name": "stdout",
          "output_type": "stream",
          "text": [
            "2023-03-19 17:26:35,903 DEBUG   object_detection_load_model.py:53 : Filtering the predictions based on their confidence threshold\n"
          ]
        },
        {
          "name": "stderr",
          "output_type": "stream",
          "text": [
            "DEBUG:PalletDetection:Filtering the predictions based on their confidence threshold\n"
          ]
        },
        {
          "name": "stdout",
          "output_type": "stream",
          "text": [
            "2023-03-19 17:26:35,915 DEBUG   object_detection_load_model.py:65 : Number of predictions after filtration process: 100\n"
          ]
        },
        {
          "name": "stderr",
          "output_type": "stream",
          "text": [
            "DEBUG:PalletDetection:Number of predictions after filtration process: 100\n"
          ]
        },
        {
          "name": "stdout",
          "output_type": "stream",
          "text": [
            "2023-03-19 17:26:35,925 INFO    object_detection_load_model.py:82 : Calculating the TP, FP and FN of the predictions\n"
          ]
        },
        {
          "name": "stderr",
          "output_type": "stream",
          "text": [
            "INFO:PalletDetection:Calculating the TP, FP and FN of the predictions\n"
          ]
        },
        {
          "name": "stdout",
          "output_type": "stream",
          "text": [
            "2023-03-19 17:26:35,953 DEBUG   object_detection_load_model.py:109 : Car's evaluation: 0.47, 0.17\n"
          ]
        },
        {
          "name": "stderr",
          "output_type": "stream",
          "text": [
            "DEBUG:PalletDetection:Car's evaluation: 0.47, 0.17\n"
          ]
        },
        {
          "name": "stdout",
          "output_type": "stream",
          "text": [
            "2023-03-19 17:26:35,963 DEBUG   object_detection_load_model.py:112 : Pedestrians's evaluation: 0.10, 0.06\n"
          ]
        },
        {
          "name": "stderr",
          "output_type": "stream",
          "text": [
            "DEBUG:PalletDetection:Pedestrians's evaluation: 0.10, 0.06\n"
          ]
        },
        {
          "name": "stdout",
          "output_type": "stream",
          "text": [
            "2023-03-19 17:26:35,970 INFO    object_detection_load_model.py:137 : Running model evaluation for with following configurations\n"
          ]
        },
        {
          "name": "stderr",
          "output_type": "stream",
          "text": [
            "INFO:PalletDetection:Running model evaluation for with following configurations\n"
          ]
        },
        {
          "name": "stdout",
          "output_type": "stream",
          "text": [
            "2023-03-19 17:26:35,976 INFO    object_detection_load_model.py:138 : Cars-confidence threshold:  0.850,  Cars-IOU threshold : 0.500\n"
          ]
        },
        {
          "name": "stderr",
          "output_type": "stream",
          "text": [
            "INFO:PalletDetection:Cars-confidence threshold:  0.850,  Cars-IOU threshold : 0.500\n"
          ]
        },
        {
          "name": "stdout",
          "output_type": "stream",
          "text": [
            "2023-03-19 17:26:35,978 INFO    object_detection_load_model.py:140 : Pedst-confidence threshold: 0.850,  Pedst-IOU threshold: 0.500\n"
          ]
        },
        {
          "name": "stderr",
          "output_type": "stream",
          "text": [
            "INFO:PalletDetection:Pedst-confidence threshold: 0.850,  Pedst-IOU threshold: 0.500\n"
          ]
        },
        {
          "name": "stdout",
          "output_type": "stream",
          "text": [
            "2023-03-19 17:26:44,010 DEBUG   object_detection_load_model.py:41 : Time taken for prediction: 12.45\n"
          ]
        },
        {
          "name": "stderr",
          "output_type": "stream",
          "text": [
            "DEBUG:PalletDetection:Time taken for prediction: 12.45\n"
          ]
        },
        {
          "name": "stdout",
          "output_type": "stream",
          "text": [
            "2023-03-19 17:26:44,016 DEBUG   object_detection_load_model.py:42 : Model output shape: (100, 100, 4)\n"
          ]
        },
        {
          "name": "stderr",
          "output_type": "stream",
          "text": [
            "DEBUG:PalletDetection:Model output shape: (100, 100, 4)\n"
          ]
        },
        {
          "name": "stdout",
          "output_type": "stream",
          "text": [
            "2023-03-19 17:26:44,021 DEBUG   object_detection_load_model.py:45 : Categorizing the predictions\n"
          ]
        },
        {
          "name": "stderr",
          "output_type": "stream",
          "text": [
            "DEBUG:PalletDetection:Categorizing the predictions\n"
          ]
        },
        {
          "name": "stdout",
          "output_type": "stream",
          "text": [
            "2023-03-19 17:26:44,347 DEBUG   object_detection_load_model.py:50 : Number of categorized predictions: 100\n"
          ]
        },
        {
          "name": "stderr",
          "output_type": "stream",
          "text": [
            "DEBUG:PalletDetection:Number of categorized predictions: 100\n"
          ]
        },
        {
          "name": "stdout",
          "output_type": "stream",
          "text": [
            "2023-03-19 17:26:44,352 DEBUG   object_detection_load_model.py:53 : Filtering the predictions based on their confidence threshold\n"
          ]
        },
        {
          "name": "stderr",
          "output_type": "stream",
          "text": [
            "DEBUG:PalletDetection:Filtering the predictions based on their confidence threshold\n"
          ]
        },
        {
          "name": "stdout",
          "output_type": "stream",
          "text": [
            "2023-03-19 17:26:44,362 DEBUG   object_detection_load_model.py:65 : Number of predictions after filtration process: 100\n"
          ]
        },
        {
          "name": "stderr",
          "output_type": "stream",
          "text": [
            "DEBUG:PalletDetection:Number of predictions after filtration process: 100\n"
          ]
        },
        {
          "name": "stdout",
          "output_type": "stream",
          "text": [
            "2023-03-19 17:26:44,366 INFO    object_detection_load_model.py:82 : Calculating the TP, FP and FN of the predictions\n"
          ]
        },
        {
          "name": "stderr",
          "output_type": "stream",
          "text": [
            "INFO:PalletDetection:Calculating the TP, FP and FN of the predictions\n"
          ]
        },
        {
          "name": "stdout",
          "output_type": "stream",
          "text": [
            "2023-03-19 17:26:44,389 DEBUG   object_detection_load_model.py:109 : Car's evaluation: 0.44, 0.12\n"
          ]
        },
        {
          "name": "stderr",
          "output_type": "stream",
          "text": [
            "DEBUG:PalletDetection:Car's evaluation: 0.44, 0.12\n"
          ]
        },
        {
          "name": "stdout",
          "output_type": "stream",
          "text": [
            "2023-03-19 17:26:44,391 DEBUG   object_detection_load_model.py:112 : Pedestrians's evaluation: 0.05, 0.03\n"
          ]
        },
        {
          "name": "stderr",
          "output_type": "stream",
          "text": [
            "DEBUG:PalletDetection:Pedestrians's evaluation: 0.05, 0.03\n"
          ]
        },
        {
          "name": "stdout",
          "output_type": "stream",
          "text": [
            "2023-03-19 17:26:44,394 DEBUG   object_detection_load_model.py:167 : All configuration predictions done\n"
          ]
        },
        {
          "name": "stderr",
          "output_type": "stream",
          "text": [
            "DEBUG:PalletDetection:All configuration predictions done\n"
          ]
        },
        {
          "name": "stdout",
          "output_type": "stream",
          "text": [
            "2023-03-19 17:26:44,400 DEBUG   object_detection.py:47      : Result lengths: 14, 14, 14, 14, 14\n"
          ]
        },
        {
          "name": "stderr",
          "output_type": "stream",
          "text": [
            "DEBUG:PalletDetection:Result lengths: 14, 14, 14, 14, 14\n"
          ]
        },
        {
          "name": "stdout",
          "output_type": "stream",
          "text": [
            "2023-03-19 17:26:44,406 INFO    object_detection.py:106     : Average precision cars: 0.211\n"
          ]
        },
        {
          "name": "stderr",
          "output_type": "stream",
          "text": [
            "INFO:PalletDetection:Average precision cars: 0.211\n"
          ]
        },
        {
          "name": "stdout",
          "output_type": "stream",
          "text": [
            "2023-03-19 17:26:44,409 INFO    object_detection.py:107     : Average precision pedestrians: 0.091\n"
          ]
        },
        {
          "name": "stderr",
          "output_type": "stream",
          "text": [
            "INFO:PalletDetection:Average precision pedestrians: 0.091\n"
          ]
        },
        {
          "name": "stdout",
          "output_type": "stream",
          "text": [
            "2023-03-19 17:26:44,418 INFO    object_detection.py:108     : Mean-average-precision: 0.151\n"
          ]
        },
        {
          "name": "stderr",
          "output_type": "stream",
          "text": [
            "INFO:PalletDetection:Mean-average-precision: 0.151\n"
          ]
        }
      ],
      "source": [
        "result = ObjectDetect().predict()"
      ]
    },
    {
      "cell_type": "code",
      "execution_count": 5,
      "metadata": {
        "colab": {
          "base_uri": "https://localhost:8080/"
        },
        "id": "QljYar3QceqJ",
        "outputId": "b81cadca-0a1c-477c-f925-2b27dbe8965c"
      },
      "outputs": [
        {
          "data": {
            "text/plain": [
              "dict_keys(['cars-recall', 'cars-precision', 'cars-avg-precision', 'pedestrians-avg-precision', 'map', 'pedestrians-recall', 'pedestrians-precision', 'cars-conf-threshold', 'cars-iou-threshold', 'pedestrians-conf-threshold', 'pedestrians-iou-threshold', 'model_inference_time', 'over_all_inference_time', 'tp_cars', 'fp_cars', 'fn_cars', 'tp_pedestrians', 'fp_pedestrians', 'fn_pedestrians'])"
            ]
          },
          "execution_count": 5,
          "metadata": {},
          "output_type": "execute_result"
        }
      ],
      "source": [
        "result.keys()"
      ]
    },
    {
      "cell_type": "code",
      "execution_count": 14,
      "metadata": {
        "colab": {
          "base_uri": "https://localhost:8080/",
          "height": 300
        },
        "id": "i31HfBFn6RQ2",
        "outputId": "f8b739d1-2e95-44b8-f677-eb38406edbaa"
      },
      "outputs": [
        {
          "data": {
            "image/png": "[encoded data removed]",
            "text/plain": [
              "<Figure size 432x288 with 1 Axes>"
            ]
          },
          "metadata": {
            "needs_background": "light"
          },
          "output_type": "display_data"
        }
      ],
      "source": [
        "plot_precision_recall_curve(result[\"cars-recall\"], result[\"cars-precision\"], result[\"cars-conf-threshold\"])"
      ]
    },
    {
      "cell_type": "code",
      "execution_count": 16,
      "metadata": {
        "colab": {
          "base_uri": "https://localhost:8080/",
          "height": 300
        },
        "id": "R9bBYPkS6q4Y",
        "outputId": "9c99279b-5f3d-4399-ff88-0358ba8ef42e"
      },
      "outputs": [
        {
          "data": {
            "image/png": "[encoded data removed]",
            "text/plain": [
              "<Figure size 432x288 with 1 Axes>"
            ]
          },
          "metadata": {
            "needs_background": "light"
          },
          "output_type": "display_data"
        }
      ],
      "source": [
        "plot_precision_recall_curve(result[\"pedestrians-recall\"], result[\"pedestrians-precision\"], result[\"pedestrians-conf-threshold\"])"
      ]
    },
    {
      "cell_type": "code",
      "execution_count": 15,
      "metadata": {
        "colab": {
          "base_uri": "https://localhost:8080/",
          "height": 282
        },
        "id": "BZo5jnweX6Sf",
        "outputId": "5513f49d-63b3-4204-c4c6-ccf818c865c3"
      },
      "outputs": [
        {
          "data": {
            "text/plain": [
              "[<matplotlib.lines.Line2D at 0x7f249a0b19a0>]"
            ]
          },
          "execution_count": 15,
          "metadata": {},
          "output_type": "execute_result"
        },
        {
          "data": {
            "image/png": "[encoded data removed]",
            "text/plain": [
              "<Figure size 432x288 with 1 Axes>"
            ]
          },
          "metadata": {
            "needs_background": "light"
          },
          "output_type": "display_data"
        }
      ],
      "source": [
        "plt.plot(result[\"pedestrians-conf-threshold\"],\n",
        "         result[\"pedestrians-recall\"])"
      ]
    },
    {
      "cell_type": "code",
      "execution_count": 6,
      "metadata": {
        "colab": {
          "base_uri": "https://localhost:8080/",
          "height": 282
        },
        "id": "ah_3cil25uql",
        "outputId": "f22f85f3-8dee-47d0-ca55-d6148af6c08f"
      },
      "outputs": [
        {
          "data": {
            "text/plain": [
              "[<matplotlib.lines.Line2D at 0x7f249994b5b0>]"
            ]
          },
          "execution_count": 6,
          "metadata": {},
          "output_type": "execute_result"
        },
        {
          "data": {
            "image/png": "[encoded data removed]",
            "text/plain": [
              "<Figure size 432x288 with 1 Axes>"
            ]
          },
          "metadata": {
            "needs_background": "light"
          },
          "output_type": "display_data"
        }
      ],
      "source": [
        "plt.plot(result[\"pedestrians-conf-threshold\"],\n",
        "         result[\"pedestrians-precision\"])"
      ]
    },
    {
      "cell_type": "code",
      "execution_count": 7,
      "metadata": {
        "colab": {
          "base_uri": "https://localhost:8080/",
          "height": 282
        },
        "id": "61uJfpF85E9T",
        "outputId": "633360bb-823c-4013-b613-4a1632ad034b"
      },
      "outputs": [
        {
          "data": {
            "text/plain": [
              "[<matplotlib.lines.Line2D at 0x7f2499a99cd0>]"
            ]
          },
          "execution_count": 7,
          "metadata": {},
          "output_type": "execute_result"
        },
        {
          "data": {
            "image/png": "[encoded data removed]",
            "text/plain": [
              "<Figure size 432x288 with 1 Axes>"
            ]
          },
          "metadata": {
            "needs_background": "light"
          },
          "output_type": "display_data"
        }
      ],
      "source": [
        "plt.plot(result[\"cars-conf-threshold\"],\n",
        "         result[\"cars-recall\"])"
      ]
    },
    {
      "cell_type": "code",
      "execution_count": 8,
      "metadata": {
        "colab": {
          "base_uri": "https://localhost:8080/",
          "height": 282
        },
        "id": "VxqVftT05PwQ",
        "outputId": "291b02f6-2e6e-437f-e232-d2163ee76fab"
      },
      "outputs": [
        {
          "data": {
            "text/plain": [
              "[<matplotlib.lines.Line2D at 0x7f2499b40970>]"
            ]
          },
          "execution_count": 8,
          "metadata": {},
          "output_type": "execute_result"
        },
        {
          "data": {
            "image/png": "[encoded data removed]",
            "text/plain": [
              "<Figure size 432x288 with 1 Axes>"
            ]
          },
          "metadata": {
            "needs_background": "light"
          },
          "output_type": "display_data"
        }
      ],
      "source": [
        "plt.plot(result[\"cars-conf-threshold\"],\n",
        "         result[\"cars-precision\"])"
      ]
    },
    {
      "cell_type": "code",
      "execution_count": 9,
      "metadata": {
        "colab": {
          "base_uri": "https://localhost:8080/",
          "height": 282
        },
        "id": "3Gnvsnuswh1b",
        "outputId": "3e0229ae-b108-45ea-e054-defab4bcf849"
      },
      "outputs": [
        {
          "data": {
            "text/plain": [
              "[<matplotlib.lines.Line2D at 0x7f2499c53a90>]"
            ]
          },
          "execution_count": 9,
          "metadata": {},
          "output_type": "execute_result"
        },
        {
          "data": {
            "image/png": "[encoded data removed]",
            "text/plain": [
              "<Figure size 432x288 with 1 Axes>"
            ]
          },
          "metadata": {
            "needs_background": "light"
          },
          "output_type": "display_data"
        }
      ],
      "source": [
        "plt.plot(result[\"tp_pedestrians\"], \"g\")\n",
        "plt.plot(result[\"fp_pedestrians\"], \"b\")\n",
        "plt.plot(result[\"fn_pedestrians\"], \"r\")"
      ]
    },
    {
      "cell_type": "code",
      "execution_count": 10,
      "metadata": {
        "colab": {
          "base_uri": "https://localhost:8080/",
          "height": 282
        },
        "id": "mUKtBl5oGSzh",
        "outputId": "c1f85288-7a35-42c2-903b-e11a5b19547d"
      },
      "outputs": [
        {
          "data": {
            "text/plain": [
              "[<matplotlib.lines.Line2D at 0x7f2499db27c0>]"
            ]
          },
          "execution_count": 10,
          "metadata": {},
          "output_type": "execute_result"
        },
        {
          "data": {
            "image/png": "[encoded data removed]",
            "text/plain": [
              "<Figure size 432x288 with 1 Axes>"
            ]
          },
          "metadata": {
            "needs_background": "light"
          },
          "output_type": "display_data"
        }
      ],
      "source": [
        "plt.plot(result[\"tp_cars\"], \"g\")\n",
        "plt.plot(result[\"fp_cars\"], \"b\")\n",
        "plt.plot(result[\"fn_cars\"], \"r\")"
      ]
    },
    {
      "cell_type": "code",
      "execution_count": 11,
      "metadata": {
        "colab": {
          "base_uri": "https://localhost:8080/",
          "height": 282
        },
        "id": "NvqdM3L4H4Pf",
        "outputId": "b13fb388-0449-4fb8-8bc4-21a83870384c"
      },
      "outputs": [
        {
          "data": {
            "text/plain": [
              "[<matplotlib.lines.Line2D at 0x7f2499e34130>]"
            ]
          },
          "execution_count": 11,
          "metadata": {},
          "output_type": "execute_result"
        },
        {
          "data": {
            "image/png": "[encoded data removed]",
            "text/plain": [
              "<Figure size 432x288 with 1 Axes>"
            ]
          },
          "metadata": {
            "needs_background": "light"
          },
          "output_type": "display_data"
        }
      ],
      "source": [
        "plt.plot(result[\"tp_cars\"], \"g\")\n",
        "plt.plot(result[\"fn_cars\"], \"b\")\n",
        "plt.plot(result[\"cars-recall\"], \"r\")"
      ]
    },
    {
      "cell_type": "code",
      "execution_count": null,
      "metadata": {
        "id": "4sCz5-Xw5Aol"
      },
      "outputs": [],
      "source": []
    }
  ],
  "metadata": {
    "accelerator": "GPU",
    "colab": {
      "provenance": []
    },
    "gpuClass": "standard",
    "kernelspec": {
      "display_name": "Python 3",
      "name": "python3"
    },
    "language_info": {
      "name": "python"
    }
  },
  "nbformat": 4,
  "nbformat_minor": 0
}
