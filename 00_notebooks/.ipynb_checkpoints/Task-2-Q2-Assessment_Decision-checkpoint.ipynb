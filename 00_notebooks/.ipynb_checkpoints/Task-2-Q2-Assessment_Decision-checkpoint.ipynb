{
  "nbformat": 4,
  "nbformat_minor": 0,
  "metadata": {
    "colab": {
      "provenance": []
    },
    "kernelspec": {
      "name": "python3",
      "display_name": "Python 3"
    },
    "language_info": {
      "name": "python"
    }
  },
  "cells": [
    {
      "cell_type": "code",
      "source": [
        "import os\n",
        "os.chdir(\"01-Solution-Task-2/product/\")\n",
        "import numpy as np\n",
        "import pickle\n",
        "\n",
        "from matplotlib import pyplot as plt\n",
        "from object_detection import ObjectDetect"
      ],
      "metadata": {
        "id": "q8Tk1Kd6KTtt"
      },
      "execution_count": 1,
      "outputs": []
    },
    {
      "cell_type": "code",
      "source": [
        "def plot_recall_conf_curve(recall, thresholds):\n",
        "    \n",
        "    plt.plot(thresholds, recall, linewidth=2, color=\"red\", zorder=0)\n",
        "    plt.scatter(thresholds, recall)\n",
        "\n",
        "    for i in range(len(thresholds)):\n",
        "        plt.annotate(\"   %.2f\"%thresholds[i], (thresholds[i], recall[i]))\n",
        "\n",
        "    plt.xlabel(\"Confidence\", fontsize=12, fontweight='bold')\n",
        "    plt.ylabel(\"Recall\", fontsize=12, fontweight='bold')\n",
        "    plt.title(\"Recall-conf\", fontsize=15, fontweight=\"bold\")\n",
        "    plt.show()\n",
        "\n",
        "def plot_precision_conf_curve(precision, thresholds):\n",
        "    \n",
        "    plt.plot(thresholds, precision, linewidth=2, color=\"red\", zorder=0)\n",
        "    plt.scatter(thresholds, precision)\n",
        "\n",
        "    for i in range(len(thresholds)):\n",
        "        plt.annotate(\"   %.2f\"%thresholds[i], (thresholds[i], precision[i]))\n",
        "\n",
        "    plt.xlabel(\"Confidence\", fontsize=12, fontweight='bold')\n",
        "    plt.ylabel(\"Precision\", fontsize=12, fontweight='bold')\n",
        "    plt.title(\"Precision-conf\", fontsize=15, fontweight=\"bold\")\n",
        "    plt.show()"
      ],
      "metadata": {
        "id": "G-ni9t1Tp9Tp"
      },
      "execution_count": 2,
      "outputs": []
    },
    {
      "cell_type": "code",
      "source": [
        "def plot_precision_recall_curve(recall, precision, thresholds):\n",
        "    \n",
        "    plt.plot(recall, precision, linewidth=2, color=\"red\", zorder=0)\n",
        "    plt.scatter(recall, precision)\n",
        "\n",
        "    for i in range(len(thresholds)):\n",
        "        plt.annotate(\"   %.2f\"%thresholds[i], (recall[i], precision[i]))\n",
        "\n",
        "    plt.xlabel(\"Recall\", fontsize=12, fontweight='bold')\n",
        "    plt.ylabel(\"Precision\", fontsize=12, fontweight='bold')\n",
        "    plt.title(\"Precision-Recall Curve\", fontsize=15, fontweight=\"bold\")\n",
        "    plt.show()"
      ],
      "metadata": {
        "id": "NVWWPUZFK0Sx"
      },
      "execution_count": 3,
      "outputs": []
    },
    {
      "cell_type": "markdown",
      "source": [
        "## Business requirements\n",
        "\n",
        "### 1) Not to miss any pedestrians <br>\n",
        "For this requirement we will be selecting a lower confidence threshold for the pedestrians, so that we can get as many bounding-boxes for pedestrians. This will increase the recall for the pedestrians.\n",
        "\n",
        "### 2) To have highest precision while detecting the cars\n",
        "To achieve this requirement we will be selecting a hogh confidence threshold for cars, so that the bounding-box that we predict could be most accurate for a car.\n",
        "\n",
        "\n",
        "### 3) Detect the pedestrians accurately (IOU-th >= 0.8)\n",
        "For this requirement, we can simply add the threshold in the config.ini file. This will give a precise bounding boxes for the pedestrians.\n",
        "\n",
        "### 4) Rough localization for cars (IOU-th >= 0.5)\n",
        "For this requirement, we can simply add the threshold in the config.ini file. This will give a rough bounding box for the cars.\n",
        "\n",
        "<br><br>\n",
        "### Summary\n",
        "By selecting the parameter as mentioned above, we will be predicting pedestrians accurately but cars relatively less accurately.\n",
        "\n",
        "The post-processing time for detecting the pedestrians will be a little more, becaause of the lower confidence score and more number of predicted bounding boxes.\n",
        "\n",
        "The pose-processing time for detecting the cars will be relatively less due to high-confidence socre and less number of predicted bounding boxes.\n"
      ],
      "metadata": {
        "id": "d3xd4eZSku0R"
      }
    },
    {
      "cell_type": "code",
      "source": [
        "# Thresholds used for evaluation (mentioned in the confg.ini during execution)\n",
        "cars_iou_th         = 0.5, 0.5, 0.5, 0.5, 0.5, 0.5, 0.5, 0.5, 0.5, 0.5, 0.5, 0.5, 0.5, 0.5\n",
        "cars_conf_th        = 0.2, 0.25, 0.3, 0.35, 0.4, 0.45, 0.5, 0.55, 0.6, 0.65, 0.7, 0.75, 0.8, 0.85\n",
        "pedestrians_iou_th  = 0.8, 0.8, 0.8, 0.8, 0.8, 0.8, 0.8, 0.8, 0.8, 0.8, 0.8, 0.8, 0.8, 0.8\n",
        "pedestrians_conf_th = 0.2, 0.25, 0.3, 0.35, 0.4, 0.45, 0.5, 0.55, 0.6, 0.65, 0.7, 0.75, 0.8, 0.85"
      ],
      "metadata": {
        "id": "Yt37gbpBr5SI"
      },
      "execution_count": 5,
      "outputs": []
    },
    {
      "cell_type": "code",
      "source": [
        "result = ObjectDetect().predict()"
      ],
      "metadata": {
        "colab": {
          "base_uri": "https://localhost:8080/"
        },
        "id": "UwyaTQ02K5h8",
        "outputId": "d9eec8ee-301a-4f1c-c05c-efba5bbaa7f9"
      },
      "execution_count": 4,
      "outputs": [
        {
          "output_type": "stream",
          "name": "stdout",
          "text": [
            "2022-12-23 02:30:56,875 INFO    object_detection.py:32      : Loading the model\n"
          ]
        },
        {
          "output_type": "stream",
          "name": "stderr",
          "text": [
            "INFO:PalletDetection:Loading the model\n"
          ]
        },
        {
          "output_type": "stream",
          "name": "stdout",
          "text": [
            "2022-12-23 02:31:05,486 DEBUG   object_detection_load_model.py:21 : [<tf.Tensor 'image_tensor:0' shape=(None, None, None, 3) dtype=uint8>]\n"
          ]
        },
        {
          "output_type": "stream",
          "name": "stderr",
          "text": [
            "DEBUG:PalletDetection:[<tf.Tensor 'image_tensor:0' shape=(None, None, None, 3) dtype=uint8>]\n"
          ]
        },
        {
          "output_type": "stream",
          "name": "stdout",
          "text": [
            "2022-12-23 02:31:05,492 DEBUG   object_detection_load_model.py:22 : {'detection_boxes': tf.float32, 'detection_scores': tf.float32, 'num_detections': tf.float32, 'detection_classes': tf.float32}\n"
          ]
        },
        {
          "output_type": "stream",
          "name": "stderr",
          "text": [
            "DEBUG:PalletDetection:{'detection_boxes': tf.float32, 'detection_scores': tf.float32, 'num_detections': tf.float32, 'detection_classes': tf.float32}\n"
          ]
        },
        {
          "output_type": "stream",
          "name": "stdout",
          "text": [
            "2022-12-23 02:31:05,498 DEBUG   object_detection_load_model.py:23 : {'detection_boxes': TensorShape([None, 100, 4]), 'detection_scores': TensorShape([None, 100]), 'num_detections': TensorShape([None]), 'detection_classes': TensorShape([None, 100])}\n"
          ]
        },
        {
          "output_type": "stream",
          "name": "stderr",
          "text": [
            "DEBUG:PalletDetection:{'detection_boxes': TensorShape([None, 100, 4]), 'detection_scores': TensorShape([None, 100]), 'num_detections': TensorShape([None]), 'detection_classes': TensorShape([None, 100])}\n"
          ]
        },
        {
          "output_type": "stream",
          "name": "stdout",
          "text": [
            "2022-12-23 02:31:05,500 INFO    object_detection.py:44      : Loading the dataset\n"
          ]
        },
        {
          "output_type": "stream",
          "name": "stderr",
          "text": [
            "INFO:PalletDetection:Loading the dataset\n"
          ]
        },
        {
          "output_type": "stream",
          "name": "stdout",
          "text": [
            "2022-12-23 02:31:05,507 INFO    object_detection_data.py:29 : Number of test images found: 100\n"
          ]
        },
        {
          "output_type": "stream",
          "name": "stderr",
          "text": [
            "INFO:PalletDetection:Number of test images found: 100\n"
          ]
        },
        {
          "output_type": "stream",
          "name": "stdout",
          "text": [
            "2022-12-23 02:31:05,517 DEBUG   object_detection_data.py:34 : Reading the images and their respective JSONs\n"
          ]
        },
        {
          "output_type": "stream",
          "name": "stderr",
          "text": [
            "DEBUG:PalletDetection:Reading the images and their respective JSONs\n"
          ]
        },
        {
          "output_type": "stream",
          "name": "stdout",
          "text": [
            "2022-12-23 02:31:06,045 INFO    object_detection.py:47      : Model prediction started\n"
          ]
        },
        {
          "output_type": "stream",
          "name": "stderr",
          "text": [
            "INFO:PalletDetection:Model prediction started\n"
          ]
        },
        {
          "output_type": "stream",
          "name": "stdout",
          "text": [
            "2022-12-23 02:31:06,052 INFO    object_detection_load_model.py:115 : Running model evaluation for with following configurations\n"
          ]
        },
        {
          "output_type": "stream",
          "name": "stderr",
          "text": [
            "INFO:PalletDetection:Running model evaluation for with following configurations\n"
          ]
        },
        {
          "output_type": "stream",
          "name": "stdout",
          "text": [
            "2022-12-23 02:31:06,057 INFO    object_detection_load_model.py:116 : Cars-confidence threshold:  0.700,  Cars-IOU threshold : 0.500\n"
          ]
        },
        {
          "output_type": "stream",
          "name": "stderr",
          "text": [
            "INFO:PalletDetection:Cars-confidence threshold:  0.700,  Cars-IOU threshold : 0.500\n"
          ]
        },
        {
          "output_type": "stream",
          "name": "stdout",
          "text": [
            "2022-12-23 02:31:06,060 INFO    object_detection_load_model.py:118 : Pedst-confidence threshold: 0.250,  Pedst-IOU threshold: 0.800\n"
          ]
        },
        {
          "output_type": "stream",
          "name": "stderr",
          "text": [
            "INFO:PalletDetection:Pedst-confidence threshold: 0.250,  Pedst-IOU threshold: 0.800\n"
          ]
        },
        {
          "output_type": "stream",
          "name": "stdout",
          "text": [
            "2022-12-23 02:31:20,937 DEBUG   object_detection_load_model.py:41 : Time taken for prediction: 14.87\n"
          ]
        },
        {
          "output_type": "stream",
          "name": "stderr",
          "text": [
            "DEBUG:PalletDetection:Time taken for prediction: 14.87\n"
          ]
        },
        {
          "output_type": "stream",
          "name": "stdout",
          "text": [
            "2022-12-23 02:31:20,940 DEBUG   object_detection_load_model.py:42 : Model output shape: (100, 100, 4)\n"
          ]
        },
        {
          "output_type": "stream",
          "name": "stderr",
          "text": [
            "DEBUG:PalletDetection:Model output shape: (100, 100, 4)\n"
          ]
        },
        {
          "output_type": "stream",
          "name": "stdout",
          "text": [
            "2022-12-23 02:31:20,944 DEBUG   object_detection_load_model.py:45 : Categorizing the predictions\n"
          ]
        },
        {
          "output_type": "stream",
          "name": "stderr",
          "text": [
            "DEBUG:PalletDetection:Categorizing the predictions\n"
          ]
        },
        {
          "output_type": "stream",
          "name": "stdout",
          "text": [
            "2022-12-23 02:31:21,085 DEBUG   object_detection_load_model.py:50 : Number of categorized predictions: 100\n"
          ]
        },
        {
          "output_type": "stream",
          "name": "stderr",
          "text": [
            "DEBUG:PalletDetection:Number of categorized predictions: 100\n"
          ]
        },
        {
          "output_type": "stream",
          "name": "stdout",
          "text": [
            "2022-12-23 02:31:21,091 DEBUG   object_detection_load_model.py:53 : Filtering the predictions based on their confidence threshold\n"
          ]
        },
        {
          "output_type": "stream",
          "name": "stderr",
          "text": [
            "DEBUG:PalletDetection:Filtering the predictions based on their confidence threshold\n"
          ]
        },
        {
          "output_type": "stream",
          "name": "stdout",
          "text": [
            "2022-12-23 02:31:21,098 DEBUG   object_detection_load_model.py:65 : Number of predictions after filtration process: 100\n"
          ]
        },
        {
          "output_type": "stream",
          "name": "stderr",
          "text": [
            "DEBUG:PalletDetection:Number of predictions after filtration process: 100\n"
          ]
        },
        {
          "output_type": "stream",
          "name": "stdout",
          "text": [
            "2022-12-23 02:31:21,105 INFO    object_detection_load_model.py:74 : Calculating the TP, FP and FN of the predictions\n"
          ]
        },
        {
          "output_type": "stream",
          "name": "stderr",
          "text": [
            "INFO:PalletDetection:Calculating the TP, FP and FN of the predictions\n"
          ]
        },
        {
          "output_type": "stream",
          "name": "stdout",
          "text": [
            "2022-12-23 02:31:21,166 DEBUG   object_detection_load_model.py:93 : Car's evaluation: 0.57, 0.25\n"
          ]
        },
        {
          "output_type": "stream",
          "name": "stderr",
          "text": [
            "DEBUG:PalletDetection:Car's evaluation: 0.57, 0.25\n"
          ]
        },
        {
          "output_type": "stream",
          "name": "stdout",
          "text": [
            "2022-12-23 02:31:21,171 DEBUG   object_detection_load_model.py:96 : Pedestrians's evaluation: 0.05, 0.04\n"
          ]
        },
        {
          "output_type": "stream",
          "name": "stderr",
          "text": [
            "DEBUG:PalletDetection:Pedestrians's evaluation: 0.05, 0.04\n"
          ]
        },
        {
          "output_type": "stream",
          "name": "stdout",
          "text": [
            "2022-12-23 02:31:21,175 DEBUG   object_detection_load_model.py:139 : All configuration predictions done\n"
          ]
        },
        {
          "output_type": "stream",
          "name": "stderr",
          "text": [
            "DEBUG:PalletDetection:All configuration predictions done\n"
          ]
        },
        {
          "output_type": "stream",
          "name": "stdout",
          "text": [
            "2022-12-23 02:31:21,178 DEBUG   object_detection.py:55      : Result lengths: 1, 1, 1, 1, 1\n"
          ]
        },
        {
          "output_type": "stream",
          "name": "stderr",
          "text": [
            "DEBUG:PalletDetection:Result lengths: 1, 1, 1, 1, 1\n"
          ]
        },
        {
          "output_type": "stream",
          "name": "stdout",
          "text": [
            "2022-12-23 02:31:21,181 INFO    object_detection.py:65      : Average precision cars: 0.000\n"
          ]
        },
        {
          "output_type": "stream",
          "name": "stderr",
          "text": [
            "INFO:PalletDetection:Average precision cars: 0.000\n"
          ]
        },
        {
          "output_type": "stream",
          "name": "stdout",
          "text": [
            "2022-12-23 02:31:21,184 INFO    object_detection.py:66      : Average precision pedestrians: 0.000\n"
          ]
        },
        {
          "output_type": "stream",
          "name": "stderr",
          "text": [
            "INFO:PalletDetection:Average precision pedestrians: 0.000\n"
          ]
        },
        {
          "output_type": "stream",
          "name": "stdout",
          "text": [
            "2022-12-23 02:31:21,187 INFO    object_detection.py:67      : Mean-average-precision: 0.000\n"
          ]
        },
        {
          "output_type": "stream",
          "name": "stderr",
          "text": [
            "INFO:PalletDetection:Mean-average-precision: 0.000\n"
          ]
        }
      ]
    },
    {
      "cell_type": "code",
      "source": [
        "result.keys()"
      ],
      "metadata": {
        "colab": {
          "base_uri": "https://localhost:8080/"
        },
        "id": "6Qg0gGkWK8ZA",
        "outputId": "603de6d3-40f1-45ec-c242-efc53d6313ec"
      },
      "execution_count": 7,
      "outputs": [
        {
          "output_type": "execute_result",
          "data": {
            "text/plain": [
              "dict_keys(['cars-recall', 'cars-precision', 'cars-avg-precision', 'pedestrians-avg-precision', 'map', 'pedestrians-recall', 'pedestrians-precision', 'cars-conf-threshold', 'cars-iou-threshold', 'pedestrians-conf-threshold', 'pedestrians-iou-threshold', 'model_inference_time', 'over_all_inference_time'])"
            ]
          },
          "metadata": {},
          "execution_count": 7
        }
      ]
    },
    {
      "cell_type": "markdown",
      "source": [
        "### Evaluating the recall-confidance graph for selecting threshold of pedestrians_confidence_score"
      ],
      "metadata": {
        "id": "ViAPg8-ZpsAM"
      }
    },
    {
      "cell_type": "code",
      "source": [
        "plot_recall_conf_curve(result[\"pedestrians-recall\"], result[\"pedestrians-conf-threshold\"])"
      ],
      "metadata": {
        "colab": {
          "base_uri": "https://localhost:8080/",
          "height": 300
        },
        "id": "JrEMWCb9ianI",
        "outputId": "dd20ff16-dd9e-4bac-9dda-626b0b15c9fe"
      },
      "execution_count": 8,
      "outputs": [
        {
          "output_type": "display_data",
          "data": {
            "text/plain": [
              "<Figure size 432x288 with 1 Axes>"
            ],
            "image/png": "[encoded data removed]"
          },
          "metadata": {
            "needs_background": "light"
          }
        }
      ]
    },
    {
      "cell_type": "markdown",
      "source": [
        "We can select the conf_threshold for pedestrians to be 0.25, to not to miss predictions for any pedestrians."
      ],
      "metadata": {
        "id": "2wU0uhCgsott"
      }
    },
    {
      "cell_type": "markdown",
      "source": [
        "### Evaluating the precision-confidance graph for selecting threshold of cars_confidence_score"
      ],
      "metadata": {
        "id": "219kDuhXrFg3"
      }
    },
    {
      "cell_type": "code",
      "source": [
        "plot_precision_conf_curve(result[\"cars-precision\"], result[\"cars-conf-threshold\"])"
      ],
      "metadata": {
        "colab": {
          "base_uri": "https://localhost:8080/",
          "height": 300
        },
        "id": "JLv59GPDqx37",
        "outputId": "95c250b3-1521-4af8-a298-deed653600e6"
      },
      "execution_count": 9,
      "outputs": [
        {
          "output_type": "display_data",
          "data": {
            "text/plain": [
              "<Figure size 432x288 with 1 Axes>"
            ],
            "image/png": "[encoded data removed]"
          },
          "metadata": {
            "needs_background": "light"
          }
        }
      ]
    },
    {
      "cell_type": "markdown",
      "source": [
        "We can select a confidence_threshold of 0.70 for cars, in order to get a high precision."
      ],
      "metadata": {
        "id": "7lykxy8ktTIo"
      }
    },
    {
      "cell_type": "markdown",
      "source": [
        "### Final conclusion\n",
        "\n",
        "#### As per the business requirement we should be selecting the following thresholds\n",
        "\n",
        "```\n",
        "cars_confidence_threshold = 0.70\n",
        "pedestrians_confidence_threshold = 0.25\n",
        "\n",
        "cars_iou_threshold = 0.5\n",
        "pedestrians_iou_threshold = 0.8\n",
        "```\n",
        "\n",
        "Recall-Precision using these thresholds\n",
        "```\n",
        "cars-recall    : 0.25\n",
        "cars-precision : 0.56\n",
        "\n",
        "pedestrians-recall    : 0.04\n",
        "pedestrians-precision : 0.05\n",
        "```"
      ],
      "metadata": {
        "id": "mTnRtoa2yfa7"
      }
    },
    {
      "cell_type": "code",
      "source": [
        "result"
      ],
      "metadata": {
        "colab": {
          "base_uri": "https://localhost:8080/"
        },
        "id": "YPa3hLl7zeKT",
        "outputId": "0f2ac6bc-9f65-4b49-fafd-b00336ea0181"
      },
      "execution_count": 5,
      "outputs": [
        {
          "output_type": "execute_result",
          "data": {
            "text/plain": [
              "{'cars-recall': [0.2517069735819736],\n",
              " 'cars-precision': [0.5658095238095239],\n",
              " 'cars-avg-precision': 0.0,\n",
              " 'pedestrians-avg-precision': 0.0,\n",
              " 'map': 0.0,\n",
              " 'pedestrians-recall': [0.04375],\n",
              " 'pedestrians-precision': [0.05142857142857142],\n",
              " 'cars-conf-threshold': [0.7],\n",
              " 'cars-iou-threshold': [0.5],\n",
              " 'pedestrians-conf-threshold': [0.25],\n",
              " 'pedestrians-iou-threshold': [0.8],\n",
              " 'model_inference_time': 6.723673320552868,\n",
              " 'over_all_inference_time': 6.648508076083727}"
            ]
          },
          "metadata": {},
          "execution_count": 5
        }
      ]
    },
    {
      "cell_type": "code",
      "source": [
        "with open(\"model_evaluation_t2q2.pickle\", \"wb\") as f:\n",
        "  pickle.dump(result, f)"
      ],
      "metadata": {
        "id": "pFSNBj2ZrN6R"
      },
      "execution_count": 10,
      "outputs": []
    },
    {
      "cell_type": "code",
      "source": [],
      "metadata": {
        "id": "h6qkJYWh0S9g"
      },
      "execution_count": null,
      "outputs": []
    }
  ]
}