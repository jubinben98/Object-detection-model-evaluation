{
 "cells": [
  {
   "cell_type": "code",
   "execution_count": 1,
   "metadata": {
    "id": "q8Tk1Kd6KTtt"
   },
   "outputs": [],
   "source": [
    "import os\n",
    "os.chdir(\"01-Solution-Task-2/product/\")\n",
    "import numpy as np\n",
    "import pickle\n",
    "\n",
    "from matplotlib import pyplot as plt\n",
    "from object_detection import ObjectDetect"
   ]
  },
  {
   "cell_type": "code",
   "execution_count": 2,
   "metadata": {
    "id": "NVWWPUZFK0Sx"
   },
   "outputs": [],
   "source": [
    "def plot_precision_recall_curve(recall, precision, thresholds):\n",
    "    \n",
    "    plt.plot(recall, precision, linewidth=2, color=\"red\", zorder=0)\n",
    "    plt.scatter(recall, precision)\n",
    "\n",
    "    for i in range(len(thresholds)):\n",
    "        plt.annotate(\"   %.2f\"%thresholds[i], (recall[i], precision[i]))\n",
    "\n",
    "    plt.xlabel(\"Recall\", fontsize=12, fontweight='bold')\n",
    "    plt.ylabel(\"Precision\", fontsize=12, fontweight='bold')\n",
    "    plt.title(\"Precision-Recall Curve\", fontsize=15, fontweight=\"bold\")\n",
    "    plt.show()"
   ]
  },
  {
   "cell_type": "code",
   "execution_count": 3,
   "metadata": {
    "colab": {
     "base_uri": "https://localhost:8080/"
    },
    "id": "UwyaTQ02K5h8",
    "outputId": "183043ca-591c-433f-b70b-2ce826ccdf59"
   },
   "outputs": [
    {
     "name": "stdout",
     "output_type": "stream",
     "text": [
      "2022-12-23 01:12:13,997 INFO    object_detection.py:32      : Loading the model\n"
     ]
    },
    {
     "name": "stderr",
     "output_type": "stream",
     "text": [
      "INFO:PalletDetection:Loading the model\n"
     ]
    },
    {
     "name": "stdout",
     "output_type": "stream",
     "text": [
      "2022-12-23 01:12:28,171 DEBUG   object_detection_load_model.py:21 : [<tf.Tensor 'image_tensor:0' shape=(None, None, None, 3) dtype=uint8>]\n"
     ]
    },
    {
     "name": "stderr",
     "output_type": "stream",
     "text": [
      "DEBUG:PalletDetection:[<tf.Tensor 'image_tensor:0' shape=(None, None, None, 3) dtype=uint8>]\n"
     ]
    },
    {
     "name": "stdout",
     "output_type": "stream",
     "text": [
      "2022-12-23 01:12:28,182 DEBUG   object_detection_load_model.py:22 : {'detection_boxes': tf.float32, 'detection_classes': tf.float32, 'detection_scores': tf.float32, 'num_detections': tf.float32}\n"
     ]
    },
    {
     "name": "stderr",
     "output_type": "stream",
     "text": [
      "DEBUG:PalletDetection:{'detection_boxes': tf.float32, 'detection_classes': tf.float32, 'detection_scores': tf.float32, 'num_detections': tf.float32}\n"
     ]
    },
    {
     "name": "stdout",
     "output_type": "stream",
     "text": [
      "2022-12-23 01:12:28,190 DEBUG   object_detection_load_model.py:23 : {'detection_boxes': TensorShape([None, 100, 4]), 'detection_classes': TensorShape([None, 100]), 'detection_scores': TensorShape([None, 100]), 'num_detections': TensorShape([None])}\n"
     ]
    },
    {
     "name": "stderr",
     "output_type": "stream",
     "text": [
      "DEBUG:PalletDetection:{'detection_boxes': TensorShape([None, 100, 4]), 'detection_classes': TensorShape([None, 100]), 'detection_scores': TensorShape([None, 100]), 'num_detections': TensorShape([None])}\n"
     ]
    },
    {
     "name": "stdout",
     "output_type": "stream",
     "text": [
      "2022-12-23 01:12:28,194 INFO    object_detection.py:44      : Loading the dataset\n"
     ]
    },
    {
     "name": "stderr",
     "output_type": "stream",
     "text": [
      "INFO:PalletDetection:Loading the dataset\n"
     ]
    },
    {
     "name": "stdout",
     "output_type": "stream",
     "text": [
      "2022-12-23 01:12:28,198 INFO    object_detection_data.py:29 : Number of test images found: 100\n"
     ]
    },
    {
     "name": "stderr",
     "output_type": "stream",
     "text": [
      "INFO:PalletDetection:Number of test images found: 100\n"
     ]
    },
    {
     "name": "stdout",
     "output_type": "stream",
     "text": [
      "2022-12-23 01:12:28,201 DEBUG   object_detection_data.py:34 : Reading the images and their respective JSONs\n"
     ]
    },
    {
     "name": "stderr",
     "output_type": "stream",
     "text": [
      "DEBUG:PalletDetection:Reading the images and their respective JSONs\n"
     ]
    },
    {
     "name": "stdout",
     "output_type": "stream",
     "text": [
      "2022-12-23 01:12:28,743 INFO    object_detection.py:47      : Model prediction started\n"
     ]
    },
    {
     "name": "stderr",
     "output_type": "stream",
     "text": [
      "INFO:PalletDetection:Model prediction started\n"
     ]
    },
    {
     "name": "stdout",
     "output_type": "stream",
     "text": [
      "2022-12-23 01:12:28,750 INFO    object_detection_load_model.py:115 : Running model evaluation for with following configurations\n"
     ]
    },
    {
     "name": "stderr",
     "output_type": "stream",
     "text": [
      "INFO:PalletDetection:Running model evaluation for with following configurations\n"
     ]
    },
    {
     "name": "stdout",
     "output_type": "stream",
     "text": [
      "2022-12-23 01:12:28,755 INFO    object_detection_load_model.py:116 : Cars-confidence threshold:  0.100,  Cars-IOU threshold : 0.500\n"
     ]
    },
    {
     "name": "stderr",
     "output_type": "stream",
     "text": [
      "INFO:PalletDetection:Cars-confidence threshold:  0.100,  Cars-IOU threshold : 0.500\n"
     ]
    },
    {
     "name": "stdout",
     "output_type": "stream",
     "text": [
      "2022-12-23 01:12:28,759 INFO    object_detection_load_model.py:118 : Pedst-confidence threshold: 0.100,  Pedst-IOU threshold: 0.500\n"
     ]
    },
    {
     "name": "stderr",
     "output_type": "stream",
     "text": [
      "INFO:PalletDetection:Pedst-confidence threshold: 0.100,  Pedst-IOU threshold: 0.500\n"
     ]
    },
    {
     "name": "stdout",
     "output_type": "stream",
     "text": [
      "2022-12-23 01:12:43,791 DEBUG   object_detection_load_model.py:41 : Time taken for prediction: 15.03\n"
     ]
    },
    {
     "name": "stderr",
     "output_type": "stream",
     "text": [
      "DEBUG:PalletDetection:Time taken for prediction: 15.03\n"
     ]
    },
    {
     "name": "stdout",
     "output_type": "stream",
     "text": [
      "2022-12-23 01:12:43,797 DEBUG   object_detection_load_model.py:42 : Model output shape: (100, 100, 4)\n"
     ]
    },
    {
     "name": "stderr",
     "output_type": "stream",
     "text": [
      "DEBUG:PalletDetection:Model output shape: (100, 100, 4)\n"
     ]
    },
    {
     "name": "stdout",
     "output_type": "stream",
     "text": [
      "2022-12-23 01:12:43,801 DEBUG   object_detection_load_model.py:45 : Categorizing the predictions\n"
     ]
    },
    {
     "name": "stderr",
     "output_type": "stream",
     "text": [
      "DEBUG:PalletDetection:Categorizing the predictions\n"
     ]
    },
    {
     "name": "stdout",
     "output_type": "stream",
     "text": [
      "2022-12-23 01:12:43,937 DEBUG   object_detection_load_model.py:50 : Number of categorized predictions: 100\n"
     ]
    },
    {
     "name": "stderr",
     "output_type": "stream",
     "text": [
      "DEBUG:PalletDetection:Number of categorized predictions: 100\n"
     ]
    },
    {
     "name": "stdout",
     "output_type": "stream",
     "text": [
      "2022-12-23 01:12:43,940 DEBUG   object_detection_load_model.py:53 : Filtering the predictions based on their confidence threshold\n"
     ]
    },
    {
     "name": "stderr",
     "output_type": "stream",
     "text": [
      "DEBUG:PalletDetection:Filtering the predictions based on their confidence threshold\n"
     ]
    },
    {
     "name": "stdout",
     "output_type": "stream",
     "text": [
      "2022-12-23 01:12:43,956 DEBUG   object_detection_load_model.py:65 : Number of predictions after filtration process: 100\n"
     ]
    },
    {
     "name": "stderr",
     "output_type": "stream",
     "text": [
      "DEBUG:PalletDetection:Number of predictions after filtration process: 100\n"
     ]
    },
    {
     "name": "stdout",
     "output_type": "stream",
     "text": [
      "2022-12-23 01:12:43,959 INFO    object_detection_load_model.py:74 : Calculating the TP, FP and FN of the predictions\n"
     ]
    },
    {
     "name": "stderr",
     "output_type": "stream",
     "text": [
      "INFO:PalletDetection:Calculating the TP, FP and FN of the predictions\n"
     ]
    },
    {
     "name": "stdout",
     "output_type": "stream",
     "text": [
      "2022-12-23 01:12:44,160 DEBUG   object_detection_load_model.py:93 : Car's evaluation: 0.25, 0.54\n"
     ]
    },
    {
     "name": "stderr",
     "output_type": "stream",
     "text": [
      "DEBUG:PalletDetection:Car's evaluation: 0.25, 0.54\n"
     ]
    },
    {
     "name": "stdout",
     "output_type": "stream",
     "text": [
      "2022-12-23 01:12:44,166 DEBUG   object_detection_load_model.py:96 : Pedestrians's evaluation: 0.18, 0.26\n"
     ]
    },
    {
     "name": "stderr",
     "output_type": "stream",
     "text": [
      "DEBUG:PalletDetection:Pedestrians's evaluation: 0.18, 0.26\n"
     ]
    },
    {
     "name": "stdout",
     "output_type": "stream",
     "text": [
      "2022-12-23 01:12:44,170 INFO    object_detection_load_model.py:115 : Running model evaluation for with following configurations\n"
     ]
    },
    {
     "name": "stderr",
     "output_type": "stream",
     "text": [
      "INFO:PalletDetection:Running model evaluation for with following configurations\n"
     ]
    },
    {
     "name": "stdout",
     "output_type": "stream",
     "text": [
      "2022-12-23 01:12:44,173 INFO    object_detection_load_model.py:116 : Cars-confidence threshold:  0.150,  Cars-IOU threshold : 0.500\n"
     ]
    },
    {
     "name": "stderr",
     "output_type": "stream",
     "text": [
      "INFO:PalletDetection:Cars-confidence threshold:  0.150,  Cars-IOU threshold : 0.500\n"
     ]
    },
    {
     "name": "stdout",
     "output_type": "stream",
     "text": [
      "2022-12-23 01:12:44,176 INFO    object_detection_load_model.py:118 : Pedst-confidence threshold: 0.115,  Pedst-IOU threshold: 0.500\n"
     ]
    },
    {
     "name": "stderr",
     "output_type": "stream",
     "text": [
      "INFO:PalletDetection:Pedst-confidence threshold: 0.115,  Pedst-IOU threshold: 0.500\n"
     ]
    },
    {
     "name": "stdout",
     "output_type": "stream",
     "text": [
      "2022-12-23 01:12:54,448 DEBUG   object_detection_load_model.py:41 : Time taken for prediction: 10.27\n"
     ]
    },
    {
     "name": "stderr",
     "output_type": "stream",
     "text": [
      "DEBUG:PalletDetection:Time taken for prediction: 10.27\n"
     ]
    },
    {
     "name": "stdout",
     "output_type": "stream",
     "text": [
      "2022-12-23 01:12:54,454 DEBUG   object_detection_load_model.py:42 : Model output shape: (100, 100, 4)\n"
     ]
    },
    {
     "name": "stderr",
     "output_type": "stream",
     "text": [
      "DEBUG:PalletDetection:Model output shape: (100, 100, 4)\n"
     ]
    },
    {
     "name": "stdout",
     "output_type": "stream",
     "text": [
      "2022-12-23 01:12:54,460 DEBUG   object_detection_load_model.py:45 : Categorizing the predictions\n"
     ]
    },
    {
     "name": "stderr",
     "output_type": "stream",
     "text": [
      "DEBUG:PalletDetection:Categorizing the predictions\n"
     ]
    },
    {
     "name": "stdout",
     "output_type": "stream",
     "text": [
      "2022-12-23 01:12:54,594 DEBUG   object_detection_load_model.py:50 : Number of categorized predictions: 100\n"
     ]
    },
    {
     "name": "stderr",
     "output_type": "stream",
     "text": [
      "DEBUG:PalletDetection:Number of categorized predictions: 100\n"
     ]
    },
    {
     "name": "stdout",
     "output_type": "stream",
     "text": [
      "2022-12-23 01:12:54,599 DEBUG   object_detection_load_model.py:53 : Filtering the predictions based on their confidence threshold\n"
     ]
    },
    {
     "name": "stderr",
     "output_type": "stream",
     "text": [
      "DEBUG:PalletDetection:Filtering the predictions based on their confidence threshold\n"
     ]
    },
    {
     "name": "stdout",
     "output_type": "stream",
     "text": [
      "2022-12-23 01:12:54,612 DEBUG   object_detection_load_model.py:65 : Number of predictions after filtration process: 100\n"
     ]
    },
    {
     "name": "stderr",
     "output_type": "stream",
     "text": [
      "DEBUG:PalletDetection:Number of predictions after filtration process: 100\n"
     ]
    },
    {
     "name": "stdout",
     "output_type": "stream",
     "text": [
      "2022-12-23 01:12:54,621 INFO    object_detection_load_model.py:74 : Calculating the TP, FP and FN of the predictions\n"
     ]
    },
    {
     "name": "stderr",
     "output_type": "stream",
     "text": [
      "INFO:PalletDetection:Calculating the TP, FP and FN of the predictions\n"
     ]
    },
    {
     "name": "stdout",
     "output_type": "stream",
     "text": [
      "2022-12-23 01:12:54,776 DEBUG   object_detection_load_model.py:93 : Car's evaluation: 0.34, 0.51\n"
     ]
    },
    {
     "name": "stderr",
     "output_type": "stream",
     "text": [
      "DEBUG:PalletDetection:Car's evaluation: 0.34, 0.51\n"
     ]
    },
    {
     "name": "stdout",
     "output_type": "stream",
     "text": [
      "2022-12-23 01:12:54,783 DEBUG   object_detection_load_model.py:96 : Pedestrians's evaluation: 0.19, 0.25\n"
     ]
    },
    {
     "name": "stderr",
     "output_type": "stream",
     "text": [
      "DEBUG:PalletDetection:Pedestrians's evaluation: 0.19, 0.25\n"
     ]
    },
    {
     "name": "stdout",
     "output_type": "stream",
     "text": [
      "2022-12-23 01:12:54,787 INFO    object_detection_load_model.py:115 : Running model evaluation for with following configurations\n"
     ]
    },
    {
     "name": "stderr",
     "output_type": "stream",
     "text": [
      "INFO:PalletDetection:Running model evaluation for with following configurations\n"
     ]
    },
    {
     "name": "stdout",
     "output_type": "stream",
     "text": [
      "2022-12-23 01:12:54,790 INFO    object_detection_load_model.py:116 : Cars-confidence threshold:  0.200,  Cars-IOU threshold : 0.500\n"
     ]
    },
    {
     "name": "stderr",
     "output_type": "stream",
     "text": [
      "INFO:PalletDetection:Cars-confidence threshold:  0.200,  Cars-IOU threshold : 0.500\n"
     ]
    },
    {
     "name": "stdout",
     "output_type": "stream",
     "text": [
      "2022-12-23 01:12:54,793 INFO    object_detection_load_model.py:118 : Pedst-confidence threshold: 0.130,  Pedst-IOU threshold: 0.500\n"
     ]
    },
    {
     "name": "stderr",
     "output_type": "stream",
     "text": [
      "INFO:PalletDetection:Pedst-confidence threshold: 0.130,  Pedst-IOU threshold: 0.500\n"
     ]
    },
    {
     "name": "stdout",
     "output_type": "stream",
     "text": [
      "2022-12-23 01:13:05,211 DEBUG   object_detection_load_model.py:41 : Time taken for prediction: 10.42\n"
     ]
    },
    {
     "name": "stderr",
     "output_type": "stream",
     "text": [
      "DEBUG:PalletDetection:Time taken for prediction: 10.42\n"
     ]
    },
    {
     "name": "stdout",
     "output_type": "stream",
     "text": [
      "2022-12-23 01:13:05,218 DEBUG   object_detection_load_model.py:42 : Model output shape: (100, 100, 4)\n"
     ]
    },
    {
     "name": "stderr",
     "output_type": "stream",
     "text": [
      "DEBUG:PalletDetection:Model output shape: (100, 100, 4)\n"
     ]
    },
    {
     "name": "stdout",
     "output_type": "stream",
     "text": [
      "2022-12-23 01:13:05,223 DEBUG   object_detection_load_model.py:45 : Categorizing the predictions\n"
     ]
    },
    {
     "name": "stderr",
     "output_type": "stream",
     "text": [
      "DEBUG:PalletDetection:Categorizing the predictions\n"
     ]
    },
    {
     "name": "stdout",
     "output_type": "stream",
     "text": [
      "2022-12-23 01:13:05,371 DEBUG   object_detection_load_model.py:50 : Number of categorized predictions: 100\n"
     ]
    },
    {
     "name": "stderr",
     "output_type": "stream",
     "text": [
      "DEBUG:PalletDetection:Number of categorized predictions: 100\n"
     ]
    },
    {
     "name": "stdout",
     "output_type": "stream",
     "text": [
      "2022-12-23 01:13:05,378 DEBUG   object_detection_load_model.py:53 : Filtering the predictions based on their confidence threshold\n"
     ]
    },
    {
     "name": "stderr",
     "output_type": "stream",
     "text": [
      "DEBUG:PalletDetection:Filtering the predictions based on their confidence threshold\n"
     ]
    },
    {
     "name": "stdout",
     "output_type": "stream",
     "text": [
      "2022-12-23 01:13:05,389 DEBUG   object_detection_load_model.py:65 : Number of predictions after filtration process: 100\n"
     ]
    },
    {
     "name": "stderr",
     "output_type": "stream",
     "text": [
      "DEBUG:PalletDetection:Number of predictions after filtration process: 100\n"
     ]
    },
    {
     "name": "stdout",
     "output_type": "stream",
     "text": [
      "2022-12-23 01:13:05,395 INFO    object_detection_load_model.py:74 : Calculating the TP, FP and FN of the predictions\n"
     ]
    },
    {
     "name": "stderr",
     "output_type": "stream",
     "text": [
      "INFO:PalletDetection:Calculating the TP, FP and FN of the predictions\n"
     ]
    },
    {
     "name": "stdout",
     "output_type": "stream",
     "text": [
      "2022-12-23 01:13:05,533 DEBUG   object_detection_load_model.py:93 : Car's evaluation: 0.38, 0.47\n"
     ]
    },
    {
     "name": "stderr",
     "output_type": "stream",
     "text": [
      "DEBUG:PalletDetection:Car's evaluation: 0.38, 0.47\n"
     ]
    },
    {
     "name": "stdout",
     "output_type": "stream",
     "text": [
      "2022-12-23 01:13:05,539 DEBUG   object_detection_load_model.py:96 : Pedestrians's evaluation: 0.17, 0.22\n"
     ]
    },
    {
     "name": "stderr",
     "output_type": "stream",
     "text": [
      "DEBUG:PalletDetection:Pedestrians's evaluation: 0.17, 0.22\n"
     ]
    },
    {
     "name": "stdout",
     "output_type": "stream",
     "text": [
      "2022-12-23 01:13:05,544 INFO    object_detection_load_model.py:115 : Running model evaluation for with following configurations\n"
     ]
    },
    {
     "name": "stderr",
     "output_type": "stream",
     "text": [
      "INFO:PalletDetection:Running model evaluation for with following configurations\n"
     ]
    },
    {
     "name": "stdout",
     "output_type": "stream",
     "text": [
      "2022-12-23 01:13:05,548 INFO    object_detection_load_model.py:116 : Cars-confidence threshold:  0.250,  Cars-IOU threshold : 0.500\n"
     ]
    },
    {
     "name": "stderr",
     "output_type": "stream",
     "text": [
      "INFO:PalletDetection:Cars-confidence threshold:  0.250,  Cars-IOU threshold : 0.500\n"
     ]
    },
    {
     "name": "stdout",
     "output_type": "stream",
     "text": [
      "2022-12-23 01:13:05,550 INFO    object_detection_load_model.py:118 : Pedst-confidence threshold: 0.145,  Pedst-IOU threshold: 0.500\n"
     ]
    },
    {
     "name": "stderr",
     "output_type": "stream",
     "text": [
      "INFO:PalletDetection:Pedst-confidence threshold: 0.145,  Pedst-IOU threshold: 0.500\n"
     ]
    },
    {
     "name": "stdout",
     "output_type": "stream",
     "text": [
      "2022-12-23 01:13:15,809 DEBUG   object_detection_load_model.py:41 : Time taken for prediction: 10.26\n"
     ]
    },
    {
     "name": "stderr",
     "output_type": "stream",
     "text": [
      "DEBUG:PalletDetection:Time taken for prediction: 10.26\n"
     ]
    },
    {
     "name": "stdout",
     "output_type": "stream",
     "text": [
      "2022-12-23 01:13:15,812 DEBUG   object_detection_load_model.py:42 : Model output shape: (100, 100, 4)\n"
     ]
    },
    {
     "name": "stderr",
     "output_type": "stream",
     "text": [
      "DEBUG:PalletDetection:Model output shape: (100, 100, 4)\n"
     ]
    },
    {
     "name": "stdout",
     "output_type": "stream",
     "text": [
      "2022-12-23 01:13:15,823 DEBUG   object_detection_load_model.py:45 : Categorizing the predictions\n"
     ]
    },
    {
     "name": "stderr",
     "output_type": "stream",
     "text": [
      "DEBUG:PalletDetection:Categorizing the predictions\n"
     ]
    },
    {
     "name": "stdout",
     "output_type": "stream",
     "text": [
      "2022-12-23 01:13:15,960 DEBUG   object_detection_load_model.py:50 : Number of categorized predictions: 100\n"
     ]
    },
    {
     "name": "stderr",
     "output_type": "stream",
     "text": [
      "DEBUG:PalletDetection:Number of categorized predictions: 100\n"
     ]
    },
    {
     "name": "stdout",
     "output_type": "stream",
     "text": [
      "2022-12-23 01:13:15,970 DEBUG   object_detection_load_model.py:53 : Filtering the predictions based on their confidence threshold\n"
     ]
    },
    {
     "name": "stderr",
     "output_type": "stream",
     "text": [
      "DEBUG:PalletDetection:Filtering the predictions based on their confidence threshold\n"
     ]
    },
    {
     "name": "stdout",
     "output_type": "stream",
     "text": [
      "2022-12-23 01:13:15,984 DEBUG   object_detection_load_model.py:65 : Number of predictions after filtration process: 100\n"
     ]
    },
    {
     "name": "stderr",
     "output_type": "stream",
     "text": [
      "DEBUG:PalletDetection:Number of predictions after filtration process: 100\n"
     ]
    },
    {
     "name": "stdout",
     "output_type": "stream",
     "text": [
      "2022-12-23 01:13:15,990 INFO    object_detection_load_model.py:74 : Calculating the TP, FP and FN of the predictions\n"
     ]
    },
    {
     "name": "stderr",
     "output_type": "stream",
     "text": [
      "INFO:PalletDetection:Calculating the TP, FP and FN of the predictions\n"
     ]
    },
    {
     "name": "stdout",
     "output_type": "stream",
     "text": [
      "2022-12-23 01:13:16,110 DEBUG   object_detection_load_model.py:93 : Car's evaluation: 0.41, 0.45\n"
     ]
    },
    {
     "name": "stderr",
     "output_type": "stream",
     "text": [
      "DEBUG:PalletDetection:Car's evaluation: 0.41, 0.45\n"
     ]
    },
    {
     "name": "stdout",
     "output_type": "stream",
     "text": [
      "2022-12-23 01:13:16,115 DEBUG   object_detection_load_model.py:96 : Pedestrians's evaluation: 0.18, 0.20\n"
     ]
    },
    {
     "name": "stderr",
     "output_type": "stream",
     "text": [
      "DEBUG:PalletDetection:Pedestrians's evaluation: 0.18, 0.20\n"
     ]
    },
    {
     "name": "stdout",
     "output_type": "stream",
     "text": [
      "2022-12-23 01:13:16,119 INFO    object_detection_load_model.py:115 : Running model evaluation for with following configurations\n"
     ]
    },
    {
     "name": "stderr",
     "output_type": "stream",
     "text": [
      "INFO:PalletDetection:Running model evaluation for with following configurations\n"
     ]
    },
    {
     "name": "stdout",
     "output_type": "stream",
     "text": [
      "2022-12-23 01:13:16,123 INFO    object_detection_load_model.py:116 : Cars-confidence threshold:  0.300,  Cars-IOU threshold : 0.500\n"
     ]
    },
    {
     "name": "stderr",
     "output_type": "stream",
     "text": [
      "INFO:PalletDetection:Cars-confidence threshold:  0.300,  Cars-IOU threshold : 0.500\n"
     ]
    },
    {
     "name": "stdout",
     "output_type": "stream",
     "text": [
      "2022-12-23 01:13:16,125 INFO    object_detection_load_model.py:118 : Pedst-confidence threshold: 0.160,  Pedst-IOU threshold: 0.500\n"
     ]
    },
    {
     "name": "stderr",
     "output_type": "stream",
     "text": [
      "INFO:PalletDetection:Pedst-confidence threshold: 0.160,  Pedst-IOU threshold: 0.500\n"
     ]
    },
    {
     "name": "stdout",
     "output_type": "stream",
     "text": [
      "2022-12-23 01:13:26,368 DEBUG   object_detection_load_model.py:41 : Time taken for prediction: 10.24\n"
     ]
    },
    {
     "name": "stderr",
     "output_type": "stream",
     "text": [
      "DEBUG:PalletDetection:Time taken for prediction: 10.24\n"
     ]
    },
    {
     "name": "stdout",
     "output_type": "stream",
     "text": [
      "2022-12-23 01:13:26,375 DEBUG   object_detection_load_model.py:42 : Model output shape: (100, 100, 4)\n"
     ]
    },
    {
     "name": "stderr",
     "output_type": "stream",
     "text": [
      "DEBUG:PalletDetection:Model output shape: (100, 100, 4)\n"
     ]
    },
    {
     "name": "stdout",
     "output_type": "stream",
     "text": [
      "2022-12-23 01:13:26,380 DEBUG   object_detection_load_model.py:45 : Categorizing the predictions\n"
     ]
    },
    {
     "name": "stderr",
     "output_type": "stream",
     "text": [
      "DEBUG:PalletDetection:Categorizing the predictions\n"
     ]
    },
    {
     "name": "stdout",
     "output_type": "stream",
     "text": [
      "2022-12-23 01:13:26,517 DEBUG   object_detection_load_model.py:50 : Number of categorized predictions: 100\n"
     ]
    },
    {
     "name": "stderr",
     "output_type": "stream",
     "text": [
      "DEBUG:PalletDetection:Number of categorized predictions: 100\n"
     ]
    },
    {
     "name": "stdout",
     "output_type": "stream",
     "text": [
      "2022-12-23 01:13:26,523 DEBUG   object_detection_load_model.py:53 : Filtering the predictions based on their confidence threshold\n"
     ]
    },
    {
     "name": "stderr",
     "output_type": "stream",
     "text": [
      "DEBUG:PalletDetection:Filtering the predictions based on their confidence threshold\n"
     ]
    },
    {
     "name": "stdout",
     "output_type": "stream",
     "text": [
      "2022-12-23 01:13:26,533 DEBUG   object_detection_load_model.py:65 : Number of predictions after filtration process: 100\n"
     ]
    },
    {
     "name": "stderr",
     "output_type": "stream",
     "text": [
      "DEBUG:PalletDetection:Number of predictions after filtration process: 100\n"
     ]
    },
    {
     "name": "stdout",
     "output_type": "stream",
     "text": [
      "2022-12-23 01:13:26,540 INFO    object_detection_load_model.py:74 : Calculating the TP, FP and FN of the predictions\n"
     ]
    },
    {
     "name": "stderr",
     "output_type": "stream",
     "text": [
      "INFO:PalletDetection:Calculating the TP, FP and FN of the predictions\n"
     ]
    },
    {
     "name": "stdout",
     "output_type": "stream",
     "text": [
      "2022-12-23 01:13:26,649 DEBUG   object_detection_load_model.py:93 : Car's evaluation: 0.45, 0.43\n"
     ]
    },
    {
     "name": "stderr",
     "output_type": "stream",
     "text": [
      "DEBUG:PalletDetection:Car's evaluation: 0.45, 0.43\n"
     ]
    },
    {
     "name": "stdout",
     "output_type": "stream",
     "text": [
      "2022-12-23 01:13:26,655 DEBUG   object_detection_load_model.py:96 : Pedestrians's evaluation: 0.19, 0.20\n"
     ]
    },
    {
     "name": "stderr",
     "output_type": "stream",
     "text": [
      "DEBUG:PalletDetection:Pedestrians's evaluation: 0.19, 0.20\n"
     ]
    },
    {
     "name": "stdout",
     "output_type": "stream",
     "text": [
      "2022-12-23 01:13:26,659 INFO    object_detection_load_model.py:115 : Running model evaluation for with following configurations\n"
     ]
    },
    {
     "name": "stderr",
     "output_type": "stream",
     "text": [
      "INFO:PalletDetection:Running model evaluation for with following configurations\n"
     ]
    },
    {
     "name": "stdout",
     "output_type": "stream",
     "text": [
      "2022-12-23 01:13:26,662 INFO    object_detection_load_model.py:116 : Cars-confidence threshold:  0.350,  Cars-IOU threshold : 0.500\n"
     ]
    },
    {
     "name": "stderr",
     "output_type": "stream",
     "text": [
      "INFO:PalletDetection:Cars-confidence threshold:  0.350,  Cars-IOU threshold : 0.500\n"
     ]
    },
    {
     "name": "stdout",
     "output_type": "stream",
     "text": [
      "2022-12-23 01:13:26,665 INFO    object_detection_load_model.py:118 : Pedst-confidence threshold: 0.175,  Pedst-IOU threshold: 0.500\n"
     ]
    },
    {
     "name": "stderr",
     "output_type": "stream",
     "text": [
      "INFO:PalletDetection:Pedst-confidence threshold: 0.175,  Pedst-IOU threshold: 0.500\n"
     ]
    },
    {
     "name": "stdout",
     "output_type": "stream",
     "text": [
      "2022-12-23 01:13:36,927 DEBUG   object_detection_load_model.py:41 : Time taken for prediction: 10.26\n"
     ]
    },
    {
     "name": "stderr",
     "output_type": "stream",
     "text": [
      "DEBUG:PalletDetection:Time taken for prediction: 10.26\n"
     ]
    },
    {
     "name": "stdout",
     "output_type": "stream",
     "text": [
      "2022-12-23 01:13:36,931 DEBUG   object_detection_load_model.py:42 : Model output shape: (100, 100, 4)\n"
     ]
    },
    {
     "name": "stderr",
     "output_type": "stream",
     "text": [
      "DEBUG:PalletDetection:Model output shape: (100, 100, 4)\n"
     ]
    },
    {
     "name": "stdout",
     "output_type": "stream",
     "text": [
      "2022-12-23 01:13:36,934 DEBUG   object_detection_load_model.py:45 : Categorizing the predictions\n"
     ]
    },
    {
     "name": "stderr",
     "output_type": "stream",
     "text": [
      "DEBUG:PalletDetection:Categorizing the predictions\n"
     ]
    },
    {
     "name": "stdout",
     "output_type": "stream",
     "text": [
      "2022-12-23 01:13:37,075 DEBUG   object_detection_load_model.py:50 : Number of categorized predictions: 100\n"
     ]
    },
    {
     "name": "stderr",
     "output_type": "stream",
     "text": [
      "DEBUG:PalletDetection:Number of categorized predictions: 100\n"
     ]
    },
    {
     "name": "stdout",
     "output_type": "stream",
     "text": [
      "2022-12-23 01:13:37,078 DEBUG   object_detection_load_model.py:53 : Filtering the predictions based on their confidence threshold\n"
     ]
    },
    {
     "name": "stderr",
     "output_type": "stream",
     "text": [
      "DEBUG:PalletDetection:Filtering the predictions based on their confidence threshold\n"
     ]
    },
    {
     "name": "stdout",
     "output_type": "stream",
     "text": [
      "2022-12-23 01:13:37,094 DEBUG   object_detection_load_model.py:65 : Number of predictions after filtration process: 100\n"
     ]
    },
    {
     "name": "stderr",
     "output_type": "stream",
     "text": [
      "DEBUG:PalletDetection:Number of predictions after filtration process: 100\n"
     ]
    },
    {
     "name": "stdout",
     "output_type": "stream",
     "text": [
      "2022-12-23 01:13:37,100 INFO    object_detection_load_model.py:74 : Calculating the TP, FP and FN of the predictions\n"
     ]
    },
    {
     "name": "stderr",
     "output_type": "stream",
     "text": [
      "INFO:PalletDetection:Calculating the TP, FP and FN of the predictions\n"
     ]
    },
    {
     "name": "stdout",
     "output_type": "stream",
     "text": [
      "2022-12-23 01:13:37,197 DEBUG   object_detection_load_model.py:93 : Car's evaluation: 0.49, 0.42\n"
     ]
    },
    {
     "name": "stderr",
     "output_type": "stream",
     "text": [
      "DEBUG:PalletDetection:Car's evaluation: 0.49, 0.42\n"
     ]
    },
    {
     "name": "stdout",
     "output_type": "stream",
     "text": [
      "2022-12-23 01:13:37,202 DEBUG   object_detection_load_model.py:96 : Pedestrians's evaluation: 0.22, 0.20\n"
     ]
    },
    {
     "name": "stderr",
     "output_type": "stream",
     "text": [
      "DEBUG:PalletDetection:Pedestrians's evaluation: 0.22, 0.20\n"
     ]
    },
    {
     "name": "stdout",
     "output_type": "stream",
     "text": [
      "2022-12-23 01:13:37,206 INFO    object_detection_load_model.py:115 : Running model evaluation for with following configurations\n"
     ]
    },
    {
     "name": "stderr",
     "output_type": "stream",
     "text": [
      "INFO:PalletDetection:Running model evaluation for with following configurations\n"
     ]
    },
    {
     "name": "stdout",
     "output_type": "stream",
     "text": [
      "2022-12-23 01:13:37,209 INFO    object_detection_load_model.py:116 : Cars-confidence threshold:  0.400,  Cars-IOU threshold : 0.500\n"
     ]
    },
    {
     "name": "stderr",
     "output_type": "stream",
     "text": [
      "INFO:PalletDetection:Cars-confidence threshold:  0.400,  Cars-IOU threshold : 0.500\n"
     ]
    },
    {
     "name": "stdout",
     "output_type": "stream",
     "text": [
      "2022-12-23 01:13:37,212 INFO    object_detection_load_model.py:118 : Pedst-confidence threshold: 0.190,  Pedst-IOU threshold: 0.500\n"
     ]
    },
    {
     "name": "stderr",
     "output_type": "stream",
     "text": [
      "INFO:PalletDetection:Pedst-confidence threshold: 0.190,  Pedst-IOU threshold: 0.500\n"
     ]
    },
    {
     "name": "stdout",
     "output_type": "stream",
     "text": [
      "2022-12-23 01:13:48,073 DEBUG   object_detection_load_model.py:41 : Time taken for prediction: 10.86\n"
     ]
    },
    {
     "name": "stderr",
     "output_type": "stream",
     "text": [
      "DEBUG:PalletDetection:Time taken for prediction: 10.86\n"
     ]
    },
    {
     "name": "stdout",
     "output_type": "stream",
     "text": [
      "2022-12-23 01:13:48,077 DEBUG   object_detection_load_model.py:42 : Model output shape: (100, 100, 4)\n"
     ]
    },
    {
     "name": "stderr",
     "output_type": "stream",
     "text": [
      "DEBUG:PalletDetection:Model output shape: (100, 100, 4)\n"
     ]
    },
    {
     "name": "stdout",
     "output_type": "stream",
     "text": [
      "2022-12-23 01:13:48,079 DEBUG   object_detection_load_model.py:45 : Categorizing the predictions\n"
     ]
    },
    {
     "name": "stderr",
     "output_type": "stream",
     "text": [
      "DEBUG:PalletDetection:Categorizing the predictions\n"
     ]
    },
    {
     "name": "stdout",
     "output_type": "stream",
     "text": [
      "2022-12-23 01:13:48,234 DEBUG   object_detection_load_model.py:50 : Number of categorized predictions: 100\n"
     ]
    },
    {
     "name": "stderr",
     "output_type": "stream",
     "text": [
      "DEBUG:PalletDetection:Number of categorized predictions: 100\n"
     ]
    },
    {
     "name": "stdout",
     "output_type": "stream",
     "text": [
      "2022-12-23 01:13:48,240 DEBUG   object_detection_load_model.py:53 : Filtering the predictions based on their confidence threshold\n"
     ]
    },
    {
     "name": "stderr",
     "output_type": "stream",
     "text": [
      "DEBUG:PalletDetection:Filtering the predictions based on their confidence threshold\n"
     ]
    },
    {
     "name": "stdout",
     "output_type": "stream",
     "text": [
      "2022-12-23 01:13:48,250 DEBUG   object_detection_load_model.py:65 : Number of predictions after filtration process: 100\n"
     ]
    },
    {
     "name": "stderr",
     "output_type": "stream",
     "text": [
      "DEBUG:PalletDetection:Number of predictions after filtration process: 100\n"
     ]
    },
    {
     "name": "stdout",
     "output_type": "stream",
     "text": [
      "2022-12-23 01:13:48,256 INFO    object_detection_load_model.py:74 : Calculating the TP, FP and FN of the predictions\n"
     ]
    },
    {
     "name": "stderr",
     "output_type": "stream",
     "text": [
      "INFO:PalletDetection:Calculating the TP, FP and FN of the predictions\n"
     ]
    },
    {
     "name": "stdout",
     "output_type": "stream",
     "text": [
      "2022-12-23 01:13:48,340 DEBUG   object_detection_load_model.py:93 : Car's evaluation: 0.50, 0.41\n"
     ]
    },
    {
     "name": "stderr",
     "output_type": "stream",
     "text": [
      "DEBUG:PalletDetection:Car's evaluation: 0.50, 0.41\n"
     ]
    },
    {
     "name": "stdout",
     "output_type": "stream",
     "text": [
      "2022-12-23 01:13:48,347 DEBUG   object_detection_load_model.py:96 : Pedestrians's evaluation: 0.22, 0.19\n"
     ]
    },
    {
     "name": "stderr",
     "output_type": "stream",
     "text": [
      "DEBUG:PalletDetection:Pedestrians's evaluation: 0.22, 0.19\n"
     ]
    },
    {
     "name": "stdout",
     "output_type": "stream",
     "text": [
      "2022-12-23 01:13:48,352 INFO    object_detection_load_model.py:115 : Running model evaluation for with following configurations\n"
     ]
    },
    {
     "name": "stderr",
     "output_type": "stream",
     "text": [
      "INFO:PalletDetection:Running model evaluation for with following configurations\n"
     ]
    },
    {
     "name": "stdout",
     "output_type": "stream",
     "text": [
      "2022-12-23 01:13:48,355 INFO    object_detection_load_model.py:116 : Cars-confidence threshold:  0.450,  Cars-IOU threshold : 0.500\n"
     ]
    },
    {
     "name": "stderr",
     "output_type": "stream",
     "text": [
      "INFO:PalletDetection:Cars-confidence threshold:  0.450,  Cars-IOU threshold : 0.500\n"
     ]
    },
    {
     "name": "stdout",
     "output_type": "stream",
     "text": [
      "2022-12-23 01:13:48,357 INFO    object_detection_load_model.py:118 : Pedst-confidence threshold: 0.205,  Pedst-IOU threshold: 0.500\n"
     ]
    },
    {
     "name": "stderr",
     "output_type": "stream",
     "text": [
      "INFO:PalletDetection:Pedst-confidence threshold: 0.205,  Pedst-IOU threshold: 0.500\n"
     ]
    },
    {
     "name": "stdout",
     "output_type": "stream",
     "text": [
      "2022-12-23 01:13:58,681 DEBUG   object_detection_load_model.py:41 : Time taken for prediction: 10.32\n"
     ]
    },
    {
     "name": "stderr",
     "output_type": "stream",
     "text": [
      "DEBUG:PalletDetection:Time taken for prediction: 10.32\n"
     ]
    },
    {
     "name": "stdout",
     "output_type": "stream",
     "text": [
      "2022-12-23 01:13:58,684 DEBUG   object_detection_load_model.py:42 : Model output shape: (100, 100, 4)\n"
     ]
    },
    {
     "name": "stderr",
     "output_type": "stream",
     "text": [
      "DEBUG:PalletDetection:Model output shape: (100, 100, 4)\n"
     ]
    },
    {
     "name": "stdout",
     "output_type": "stream",
     "text": [
      "2022-12-23 01:13:58,691 DEBUG   object_detection_load_model.py:45 : Categorizing the predictions\n"
     ]
    },
    {
     "name": "stderr",
     "output_type": "stream",
     "text": [
      "DEBUG:PalletDetection:Categorizing the predictions\n"
     ]
    },
    {
     "name": "stdout",
     "output_type": "stream",
     "text": [
      "2022-12-23 01:13:58,830 DEBUG   object_detection_load_model.py:50 : Number of categorized predictions: 100\n"
     ]
    },
    {
     "name": "stderr",
     "output_type": "stream",
     "text": [
      "DEBUG:PalletDetection:Number of categorized predictions: 100\n"
     ]
    },
    {
     "name": "stdout",
     "output_type": "stream",
     "text": [
      "2022-12-23 01:13:58,835 DEBUG   object_detection_load_model.py:53 : Filtering the predictions based on their confidence threshold\n"
     ]
    },
    {
     "name": "stderr",
     "output_type": "stream",
     "text": [
      "DEBUG:PalletDetection:Filtering the predictions based on their confidence threshold\n"
     ]
    },
    {
     "name": "stdout",
     "output_type": "stream",
     "text": [
      "2022-12-23 01:13:58,851 DEBUG   object_detection_load_model.py:65 : Number of predictions after filtration process: 100\n"
     ]
    },
    {
     "name": "stderr",
     "output_type": "stream",
     "text": [
      "DEBUG:PalletDetection:Number of predictions after filtration process: 100\n"
     ]
    },
    {
     "name": "stdout",
     "output_type": "stream",
     "text": [
      "2022-12-23 01:13:58,854 INFO    object_detection_load_model.py:74 : Calculating the TP, FP and FN of the predictions\n"
     ]
    },
    {
     "name": "stderr",
     "output_type": "stream",
     "text": [
      "INFO:PalletDetection:Calculating the TP, FP and FN of the predictions\n"
     ]
    },
    {
     "name": "stdout",
     "output_type": "stream",
     "text": [
      "2022-12-23 01:13:58,948 DEBUG   object_detection_load_model.py:93 : Car's evaluation: 0.53, 0.38\n"
     ]
    },
    {
     "name": "stderr",
     "output_type": "stream",
     "text": [
      "DEBUG:PalletDetection:Car's evaluation: 0.53, 0.38\n"
     ]
    },
    {
     "name": "stdout",
     "output_type": "stream",
     "text": [
      "2022-12-23 01:13:58,954 DEBUG   object_detection_load_model.py:96 : Pedestrians's evaluation: 0.23, 0.19\n"
     ]
    },
    {
     "name": "stderr",
     "output_type": "stream",
     "text": [
      "DEBUG:PalletDetection:Pedestrians's evaluation: 0.23, 0.19\n"
     ]
    },
    {
     "name": "stdout",
     "output_type": "stream",
     "text": [
      "2022-12-23 01:13:58,957 INFO    object_detection_load_model.py:115 : Running model evaluation for with following configurations\n"
     ]
    },
    {
     "name": "stderr",
     "output_type": "stream",
     "text": [
      "INFO:PalletDetection:Running model evaluation for with following configurations\n"
     ]
    },
    {
     "name": "stdout",
     "output_type": "stream",
     "text": [
      "2022-12-23 01:13:58,960 INFO    object_detection_load_model.py:116 : Cars-confidence threshold:  0.500,  Cars-IOU threshold : 0.500\n"
     ]
    },
    {
     "name": "stderr",
     "output_type": "stream",
     "text": [
      "INFO:PalletDetection:Cars-confidence threshold:  0.500,  Cars-IOU threshold : 0.500\n"
     ]
    },
    {
     "name": "stdout",
     "output_type": "stream",
     "text": [
      "2022-12-23 01:13:58,964 INFO    object_detection_load_model.py:118 : Pedst-confidence threshold: 0.220,  Pedst-IOU threshold: 0.500\n"
     ]
    },
    {
     "name": "stderr",
     "output_type": "stream",
     "text": [
      "INFO:PalletDetection:Pedst-confidence threshold: 0.220,  Pedst-IOU threshold: 0.500\n"
     ]
    },
    {
     "name": "stdout",
     "output_type": "stream",
     "text": [
      "2022-12-23 01:14:09,276 DEBUG   object_detection_load_model.py:41 : Time taken for prediction: 10.31\n"
     ]
    },
    {
     "name": "stderr",
     "output_type": "stream",
     "text": [
      "DEBUG:PalletDetection:Time taken for prediction: 10.31\n"
     ]
    },
    {
     "name": "stdout",
     "output_type": "stream",
     "text": [
      "2022-12-23 01:14:09,287 DEBUG   object_detection_load_model.py:42 : Model output shape: (100, 100, 4)\n"
     ]
    },
    {
     "name": "stderr",
     "output_type": "stream",
     "text": [
      "DEBUG:PalletDetection:Model output shape: (100, 100, 4)\n"
     ]
    },
    {
     "name": "stdout",
     "output_type": "stream",
     "text": [
      "2022-12-23 01:14:09,290 DEBUG   object_detection_load_model.py:45 : Categorizing the predictions\n"
     ]
    },
    {
     "name": "stderr",
     "output_type": "stream",
     "text": [
      "DEBUG:PalletDetection:Categorizing the predictions\n"
     ]
    },
    {
     "name": "stdout",
     "output_type": "stream",
     "text": [
      "2022-12-23 01:14:09,425 DEBUG   object_detection_load_model.py:50 : Number of categorized predictions: 100\n"
     ]
    },
    {
     "name": "stderr",
     "output_type": "stream",
     "text": [
      "DEBUG:PalletDetection:Number of categorized predictions: 100\n"
     ]
    },
    {
     "name": "stdout",
     "output_type": "stream",
     "text": [
      "2022-12-23 01:14:09,430 DEBUG   object_detection_load_model.py:53 : Filtering the predictions based on their confidence threshold\n"
     ]
    },
    {
     "name": "stderr",
     "output_type": "stream",
     "text": [
      "DEBUG:PalletDetection:Filtering the predictions based on their confidence threshold\n"
     ]
    },
    {
     "name": "stdout",
     "output_type": "stream",
     "text": [
      "2022-12-23 01:14:09,439 DEBUG   object_detection_load_model.py:65 : Number of predictions after filtration process: 100\n"
     ]
    },
    {
     "name": "stderr",
     "output_type": "stream",
     "text": [
      "DEBUG:PalletDetection:Number of predictions after filtration process: 100\n"
     ]
    },
    {
     "name": "stdout",
     "output_type": "stream",
     "text": [
      "2022-12-23 01:14:09,445 INFO    object_detection_load_model.py:74 : Calculating the TP, FP and FN of the predictions\n"
     ]
    },
    {
     "name": "stderr",
     "output_type": "stream",
     "text": [
      "INFO:PalletDetection:Calculating the TP, FP and FN of the predictions\n"
     ]
    },
    {
     "name": "stdout",
     "output_type": "stream",
     "text": [
      "2022-12-23 01:14:09,519 DEBUG   object_detection_load_model.py:93 : Car's evaluation: 0.56, 0.36\n"
     ]
    },
    {
     "name": "stderr",
     "output_type": "stream",
     "text": [
      "DEBUG:PalletDetection:Car's evaluation: 0.56, 0.36\n"
     ]
    },
    {
     "name": "stdout",
     "output_type": "stream",
     "text": [
      "2022-12-23 01:14:09,531 DEBUG   object_detection_load_model.py:96 : Pedestrians's evaluation: 0.23, 0.19\n"
     ]
    },
    {
     "name": "stderr",
     "output_type": "stream",
     "text": [
      "DEBUG:PalletDetection:Pedestrians's evaluation: 0.23, 0.19\n"
     ]
    },
    {
     "name": "stdout",
     "output_type": "stream",
     "text": [
      "2022-12-23 01:14:09,535 INFO    object_detection_load_model.py:115 : Running model evaluation for with following configurations\n"
     ]
    },
    {
     "name": "stderr",
     "output_type": "stream",
     "text": [
      "INFO:PalletDetection:Running model evaluation for with following configurations\n"
     ]
    },
    {
     "name": "stdout",
     "output_type": "stream",
     "text": [
      "2022-12-23 01:14:09,539 INFO    object_detection_load_model.py:116 : Cars-confidence threshold:  0.550,  Cars-IOU threshold : 0.500\n"
     ]
    },
    {
     "name": "stderr",
     "output_type": "stream",
     "text": [
      "INFO:PalletDetection:Cars-confidence threshold:  0.550,  Cars-IOU threshold : 0.500\n"
     ]
    },
    {
     "name": "stdout",
     "output_type": "stream",
     "text": [
      "2022-12-23 01:14:09,542 INFO    object_detection_load_model.py:118 : Pedst-confidence threshold: 0.235,  Pedst-IOU threshold: 0.500\n"
     ]
    },
    {
     "name": "stderr",
     "output_type": "stream",
     "text": [
      "INFO:PalletDetection:Pedst-confidence threshold: 0.235,  Pedst-IOU threshold: 0.500\n"
     ]
    },
    {
     "name": "stdout",
     "output_type": "stream",
     "text": [
      "2022-12-23 01:14:19,834 DEBUG   object_detection_load_model.py:41 : Time taken for prediction: 10.29\n"
     ]
    },
    {
     "name": "stderr",
     "output_type": "stream",
     "text": [
      "DEBUG:PalletDetection:Time taken for prediction: 10.29\n"
     ]
    },
    {
     "name": "stdout",
     "output_type": "stream",
     "text": [
      "2022-12-23 01:14:19,843 DEBUG   object_detection_load_model.py:42 : Model output shape: (100, 100, 4)\n"
     ]
    },
    {
     "name": "stderr",
     "output_type": "stream",
     "text": [
      "DEBUG:PalletDetection:Model output shape: (100, 100, 4)\n"
     ]
    },
    {
     "name": "stdout",
     "output_type": "stream",
     "text": [
      "2022-12-23 01:14:19,846 DEBUG   object_detection_load_model.py:45 : Categorizing the predictions\n"
     ]
    },
    {
     "name": "stderr",
     "output_type": "stream",
     "text": [
      "DEBUG:PalletDetection:Categorizing the predictions\n"
     ]
    },
    {
     "name": "stdout",
     "output_type": "stream",
     "text": [
      "2022-12-23 01:14:19,990 DEBUG   object_detection_load_model.py:50 : Number of categorized predictions: 100\n"
     ]
    },
    {
     "name": "stderr",
     "output_type": "stream",
     "text": [
      "DEBUG:PalletDetection:Number of categorized predictions: 100\n"
     ]
    },
    {
     "name": "stdout",
     "output_type": "stream",
     "text": [
      "2022-12-23 01:14:19,993 DEBUG   object_detection_load_model.py:53 : Filtering the predictions based on their confidence threshold\n"
     ]
    },
    {
     "name": "stderr",
     "output_type": "stream",
     "text": [
      "DEBUG:PalletDetection:Filtering the predictions based on their confidence threshold\n"
     ]
    },
    {
     "name": "stdout",
     "output_type": "stream",
     "text": [
      "2022-12-23 01:14:20,012 DEBUG   object_detection_load_model.py:65 : Number of predictions after filtration process: 100\n"
     ]
    },
    {
     "name": "stderr",
     "output_type": "stream",
     "text": [
      "DEBUG:PalletDetection:Number of predictions after filtration process: 100\n"
     ]
    },
    {
     "name": "stdout",
     "output_type": "stream",
     "text": [
      "2022-12-23 01:14:20,024 INFO    object_detection_load_model.py:74 : Calculating the TP, FP and FN of the predictions\n"
     ]
    },
    {
     "name": "stderr",
     "output_type": "stream",
     "text": [
      "INFO:PalletDetection:Calculating the TP, FP and FN of the predictions\n"
     ]
    },
    {
     "name": "stdout",
     "output_type": "stream",
     "text": [
      "2022-12-23 01:14:20,095 DEBUG   object_detection_load_model.py:93 : Car's evaluation: 0.56, 0.33\n"
     ]
    },
    {
     "name": "stderr",
     "output_type": "stream",
     "text": [
      "DEBUG:PalletDetection:Car's evaluation: 0.56, 0.33\n"
     ]
    },
    {
     "name": "stdout",
     "output_type": "stream",
     "text": [
      "2022-12-23 01:14:20,102 DEBUG   object_detection_load_model.py:96 : Pedestrians's evaluation: 0.24, 0.19\n"
     ]
    },
    {
     "name": "stderr",
     "output_type": "stream",
     "text": [
      "DEBUG:PalletDetection:Pedestrians's evaluation: 0.24, 0.19\n"
     ]
    },
    {
     "name": "stdout",
     "output_type": "stream",
     "text": [
      "2022-12-23 01:14:20,107 INFO    object_detection_load_model.py:115 : Running model evaluation for with following configurations\n"
     ]
    },
    {
     "name": "stderr",
     "output_type": "stream",
     "text": [
      "INFO:PalletDetection:Running model evaluation for with following configurations\n"
     ]
    },
    {
     "name": "stdout",
     "output_type": "stream",
     "text": [
      "2022-12-23 01:14:20,110 INFO    object_detection_load_model.py:116 : Cars-confidence threshold:  0.600,  Cars-IOU threshold : 0.500\n"
     ]
    },
    {
     "name": "stderr",
     "output_type": "stream",
     "text": [
      "INFO:PalletDetection:Cars-confidence threshold:  0.600,  Cars-IOU threshold : 0.500\n"
     ]
    },
    {
     "name": "stdout",
     "output_type": "stream",
     "text": [
      "2022-12-23 01:14:20,112 INFO    object_detection_load_model.py:118 : Pedst-confidence threshold: 0.250,  Pedst-IOU threshold: 0.500\n"
     ]
    },
    {
     "name": "stderr",
     "output_type": "stream",
     "text": [
      "INFO:PalletDetection:Pedst-confidence threshold: 0.250,  Pedst-IOU threshold: 0.500\n"
     ]
    },
    {
     "name": "stdout",
     "output_type": "stream",
     "text": [
      "2022-12-23 01:14:31,359 DEBUG   object_detection_load_model.py:41 : Time taken for prediction: 11.24\n"
     ]
    },
    {
     "name": "stderr",
     "output_type": "stream",
     "text": [
      "DEBUG:PalletDetection:Time taken for prediction: 11.24\n"
     ]
    },
    {
     "name": "stdout",
     "output_type": "stream",
     "text": [
      "2022-12-23 01:14:31,367 DEBUG   object_detection_load_model.py:42 : Model output shape: (100, 100, 4)\n"
     ]
    },
    {
     "name": "stderr",
     "output_type": "stream",
     "text": [
      "DEBUG:PalletDetection:Model output shape: (100, 100, 4)\n"
     ]
    },
    {
     "name": "stdout",
     "output_type": "stream",
     "text": [
      "2022-12-23 01:14:31,373 DEBUG   object_detection_load_model.py:45 : Categorizing the predictions\n"
     ]
    },
    {
     "name": "stderr",
     "output_type": "stream",
     "text": [
      "DEBUG:PalletDetection:Categorizing the predictions\n"
     ]
    },
    {
     "name": "stdout",
     "output_type": "stream",
     "text": [
      "2022-12-23 01:14:31,577 DEBUG   object_detection_load_model.py:50 : Number of categorized predictions: 100\n"
     ]
    },
    {
     "name": "stderr",
     "output_type": "stream",
     "text": [
      "DEBUG:PalletDetection:Number of categorized predictions: 100\n"
     ]
    },
    {
     "name": "stdout",
     "output_type": "stream",
     "text": [
      "2022-12-23 01:14:31,583 DEBUG   object_detection_load_model.py:53 : Filtering the predictions based on their confidence threshold\n"
     ]
    },
    {
     "name": "stderr",
     "output_type": "stream",
     "text": [
      "DEBUG:PalletDetection:Filtering the predictions based on their confidence threshold\n"
     ]
    },
    {
     "name": "stdout",
     "output_type": "stream",
     "text": [
      "2022-12-23 01:14:31,595 DEBUG   object_detection_load_model.py:65 : Number of predictions after filtration process: 100\n"
     ]
    },
    {
     "name": "stderr",
     "output_type": "stream",
     "text": [
      "DEBUG:PalletDetection:Number of predictions after filtration process: 100\n"
     ]
    },
    {
     "name": "stdout",
     "output_type": "stream",
     "text": [
      "2022-12-23 01:14:31,599 INFO    object_detection_load_model.py:74 : Calculating the TP, FP and FN of the predictions\n"
     ]
    },
    {
     "name": "stderr",
     "output_type": "stream",
     "text": [
      "INFO:PalletDetection:Calculating the TP, FP and FN of the predictions\n"
     ]
    },
    {
     "name": "stdout",
     "output_type": "stream",
     "text": [
      "2022-12-23 01:14:31,705 DEBUG   object_detection_load_model.py:93 : Car's evaluation: 0.55, 0.30\n"
     ]
    },
    {
     "name": "stderr",
     "output_type": "stream",
     "text": [
      "DEBUG:PalletDetection:Car's evaluation: 0.55, 0.30\n"
     ]
    },
    {
     "name": "stdout",
     "output_type": "stream",
     "text": [
      "2022-12-23 01:14:31,711 DEBUG   object_detection_load_model.py:96 : Pedestrians's evaluation: 0.24, 0.18\n"
     ]
    },
    {
     "name": "stderr",
     "output_type": "stream",
     "text": [
      "DEBUG:PalletDetection:Pedestrians's evaluation: 0.24, 0.18\n"
     ]
    },
    {
     "name": "stdout",
     "output_type": "stream",
     "text": [
      "2022-12-23 01:14:31,715 INFO    object_detection_load_model.py:115 : Running model evaluation for with following configurations\n"
     ]
    },
    {
     "name": "stderr",
     "output_type": "stream",
     "text": [
      "INFO:PalletDetection:Running model evaluation for with following configurations\n"
     ]
    },
    {
     "name": "stdout",
     "output_type": "stream",
     "text": [
      "2022-12-23 01:14:31,718 INFO    object_detection_load_model.py:116 : Cars-confidence threshold:  0.650,  Cars-IOU threshold : 0.500\n"
     ]
    },
    {
     "name": "stderr",
     "output_type": "stream",
     "text": [
      "INFO:PalletDetection:Cars-confidence threshold:  0.650,  Cars-IOU threshold : 0.500\n"
     ]
    },
    {
     "name": "stdout",
     "output_type": "stream",
     "text": [
      "2022-12-23 01:14:31,721 INFO    object_detection_load_model.py:118 : Pedst-confidence threshold: 0.265,  Pedst-IOU threshold: 0.500\n"
     ]
    },
    {
     "name": "stderr",
     "output_type": "stream",
     "text": [
      "INFO:PalletDetection:Pedst-confidence threshold: 0.265,  Pedst-IOU threshold: 0.500\n"
     ]
    },
    {
     "name": "stdout",
     "output_type": "stream",
     "text": [
      "2022-12-23 01:14:42,174 DEBUG   object_detection_load_model.py:41 : Time taken for prediction: 10.45\n"
     ]
    },
    {
     "name": "stderr",
     "output_type": "stream",
     "text": [
      "DEBUG:PalletDetection:Time taken for prediction: 10.45\n"
     ]
    },
    {
     "name": "stdout",
     "output_type": "stream",
     "text": [
      "2022-12-23 01:14:42,177 DEBUG   object_detection_load_model.py:42 : Model output shape: (100, 100, 4)\n"
     ]
    },
    {
     "name": "stderr",
     "output_type": "stream",
     "text": [
      "DEBUG:PalletDetection:Model output shape: (100, 100, 4)\n"
     ]
    },
    {
     "name": "stdout",
     "output_type": "stream",
     "text": [
      "2022-12-23 01:14:42,180 DEBUG   object_detection_load_model.py:45 : Categorizing the predictions\n"
     ]
    },
    {
     "name": "stderr",
     "output_type": "stream",
     "text": [
      "DEBUG:PalletDetection:Categorizing the predictions\n"
     ]
    },
    {
     "name": "stdout",
     "output_type": "stream",
     "text": [
      "2022-12-23 01:14:42,332 DEBUG   object_detection_load_model.py:50 : Number of categorized predictions: 100\n"
     ]
    },
    {
     "name": "stderr",
     "output_type": "stream",
     "text": [
      "DEBUG:PalletDetection:Number of categorized predictions: 100\n"
     ]
    },
    {
     "name": "stdout",
     "output_type": "stream",
     "text": [
      "2022-12-23 01:14:42,337 DEBUG   object_detection_load_model.py:53 : Filtering the predictions based on their confidence threshold\n"
     ]
    },
    {
     "name": "stderr",
     "output_type": "stream",
     "text": [
      "DEBUG:PalletDetection:Filtering the predictions based on their confidence threshold\n"
     ]
    },
    {
     "name": "stdout",
     "output_type": "stream",
     "text": [
      "2022-12-23 01:14:42,353 DEBUG   object_detection_load_model.py:65 : Number of predictions after filtration process: 100\n"
     ]
    },
    {
     "name": "stderr",
     "output_type": "stream",
     "text": [
      "DEBUG:PalletDetection:Number of predictions after filtration process: 100\n"
     ]
    },
    {
     "name": "stdout",
     "output_type": "stream",
     "text": [
      "2022-12-23 01:14:42,364 INFO    object_detection_load_model.py:74 : Calculating the TP, FP and FN of the predictions\n"
     ]
    },
    {
     "name": "stderr",
     "output_type": "stream",
     "text": [
      "INFO:PalletDetection:Calculating the TP, FP and FN of the predictions\n"
     ]
    },
    {
     "name": "stdout",
     "output_type": "stream",
     "text": [
      "2022-12-23 01:14:42,419 DEBUG   object_detection_load_model.py:93 : Car's evaluation: 0.55, 0.28\n"
     ]
    },
    {
     "name": "stderr",
     "output_type": "stream",
     "text": [
      "DEBUG:PalletDetection:Car's evaluation: 0.55, 0.28\n"
     ]
    },
    {
     "name": "stdout",
     "output_type": "stream",
     "text": [
      "2022-12-23 01:14:42,429 DEBUG   object_detection_load_model.py:96 : Pedestrians's evaluation: 0.24, 0.18\n"
     ]
    },
    {
     "name": "stderr",
     "output_type": "stream",
     "text": [
      "DEBUG:PalletDetection:Pedestrians's evaluation: 0.24, 0.18\n"
     ]
    },
    {
     "name": "stdout",
     "output_type": "stream",
     "text": [
      "2022-12-23 01:14:42,432 INFO    object_detection_load_model.py:115 : Running model evaluation for with following configurations\n"
     ]
    },
    {
     "name": "stderr",
     "output_type": "stream",
     "text": [
      "INFO:PalletDetection:Running model evaluation for with following configurations\n"
     ]
    },
    {
     "name": "stdout",
     "output_type": "stream",
     "text": [
      "2022-12-23 01:14:42,434 INFO    object_detection_load_model.py:116 : Cars-confidence threshold:  0.700,  Cars-IOU threshold : 0.500\n"
     ]
    },
    {
     "name": "stderr",
     "output_type": "stream",
     "text": [
      "INFO:PalletDetection:Cars-confidence threshold:  0.700,  Cars-IOU threshold : 0.500\n"
     ]
    },
    {
     "name": "stdout",
     "output_type": "stream",
     "text": [
      "2022-12-23 01:14:42,437 INFO    object_detection_load_model.py:118 : Pedst-confidence threshold: 0.280,  Pedst-IOU threshold: 0.500\n"
     ]
    },
    {
     "name": "stderr",
     "output_type": "stream",
     "text": [
      "INFO:PalletDetection:Pedst-confidence threshold: 0.280,  Pedst-IOU threshold: 0.500\n"
     ]
    },
    {
     "name": "stdout",
     "output_type": "stream",
     "text": [
      "2022-12-23 01:14:52,698 DEBUG   object_detection_load_model.py:41 : Time taken for prediction: 10.26\n"
     ]
    },
    {
     "name": "stderr",
     "output_type": "stream",
     "text": [
      "DEBUG:PalletDetection:Time taken for prediction: 10.26\n"
     ]
    },
    {
     "name": "stdout",
     "output_type": "stream",
     "text": [
      "2022-12-23 01:14:52,701 DEBUG   object_detection_load_model.py:42 : Model output shape: (100, 100, 4)\n"
     ]
    },
    {
     "name": "stderr",
     "output_type": "stream",
     "text": [
      "DEBUG:PalletDetection:Model output shape: (100, 100, 4)\n"
     ]
    },
    {
     "name": "stdout",
     "output_type": "stream",
     "text": [
      "2022-12-23 01:14:52,707 DEBUG   object_detection_load_model.py:45 : Categorizing the predictions\n"
     ]
    },
    {
     "name": "stderr",
     "output_type": "stream",
     "text": [
      "DEBUG:PalletDetection:Categorizing the predictions\n"
     ]
    },
    {
     "name": "stdout",
     "output_type": "stream",
     "text": [
      "2022-12-23 01:14:52,845 DEBUG   object_detection_load_model.py:50 : Number of categorized predictions: 100\n"
     ]
    },
    {
     "name": "stderr",
     "output_type": "stream",
     "text": [
      "DEBUG:PalletDetection:Number of categorized predictions: 100\n"
     ]
    },
    {
     "name": "stdout",
     "output_type": "stream",
     "text": [
      "2022-12-23 01:14:52,851 DEBUG   object_detection_load_model.py:53 : Filtering the predictions based on their confidence threshold\n"
     ]
    },
    {
     "name": "stderr",
     "output_type": "stream",
     "text": [
      "DEBUG:PalletDetection:Filtering the predictions based on their confidence threshold\n"
     ]
    },
    {
     "name": "stdout",
     "output_type": "stream",
     "text": [
      "2022-12-23 01:14:52,868 DEBUG   object_detection_load_model.py:65 : Number of predictions after filtration process: 100\n"
     ]
    },
    {
     "name": "stderr",
     "output_type": "stream",
     "text": [
      "DEBUG:PalletDetection:Number of predictions after filtration process: 100\n"
     ]
    },
    {
     "name": "stdout",
     "output_type": "stream",
     "text": [
      "2022-12-23 01:14:52,872 INFO    object_detection_load_model.py:74 : Calculating the TP, FP and FN of the predictions\n"
     ]
    },
    {
     "name": "stderr",
     "output_type": "stream",
     "text": [
      "INFO:PalletDetection:Calculating the TP, FP and FN of the predictions\n"
     ]
    },
    {
     "name": "stdout",
     "output_type": "stream",
     "text": [
      "2022-12-23 01:14:52,926 DEBUG   object_detection_load_model.py:93 : Car's evaluation: 0.57, 0.25\n"
     ]
    },
    {
     "name": "stderr",
     "output_type": "stream",
     "text": [
      "DEBUG:PalletDetection:Car's evaluation: 0.57, 0.25\n"
     ]
    },
    {
     "name": "stdout",
     "output_type": "stream",
     "text": [
      "2022-12-23 01:14:52,930 DEBUG   object_detection_load_model.py:96 : Pedestrians's evaluation: 0.24, 0.17\n"
     ]
    },
    {
     "name": "stderr",
     "output_type": "stream",
     "text": [
      "DEBUG:PalletDetection:Pedestrians's evaluation: 0.24, 0.17\n"
     ]
    },
    {
     "name": "stdout",
     "output_type": "stream",
     "text": [
      "2022-12-23 01:14:52,941 INFO    object_detection_load_model.py:115 : Running model evaluation for with following configurations\n"
     ]
    },
    {
     "name": "stderr",
     "output_type": "stream",
     "text": [
      "INFO:PalletDetection:Running model evaluation for with following configurations\n"
     ]
    },
    {
     "name": "stdout",
     "output_type": "stream",
     "text": [
      "2022-12-23 01:14:52,947 INFO    object_detection_load_model.py:116 : Cars-confidence threshold:  0.750,  Cars-IOU threshold : 0.500\n"
     ]
    },
    {
     "name": "stderr",
     "output_type": "stream",
     "text": [
      "INFO:PalletDetection:Cars-confidence threshold:  0.750,  Cars-IOU threshold : 0.500\n"
     ]
    },
    {
     "name": "stdout",
     "output_type": "stream",
     "text": [
      "2022-12-23 01:14:52,950 INFO    object_detection_load_model.py:118 : Pedst-confidence threshold: 0.295,  Pedst-IOU threshold: 0.500\n"
     ]
    },
    {
     "name": "stderr",
     "output_type": "stream",
     "text": [
      "INFO:PalletDetection:Pedst-confidence threshold: 0.295,  Pedst-IOU threshold: 0.500\n"
     ]
    },
    {
     "name": "stdout",
     "output_type": "stream",
     "text": [
      "2022-12-23 01:15:03,305 DEBUG   object_detection_load_model.py:41 : Time taken for prediction: 10.35\n"
     ]
    },
    {
     "name": "stderr",
     "output_type": "stream",
     "text": [
      "DEBUG:PalletDetection:Time taken for prediction: 10.35\n"
     ]
    },
    {
     "name": "stdout",
     "output_type": "stream",
     "text": [
      "2022-12-23 01:15:03,309 DEBUG   object_detection_load_model.py:42 : Model output shape: (100, 100, 4)\n"
     ]
    },
    {
     "name": "stderr",
     "output_type": "stream",
     "text": [
      "DEBUG:PalletDetection:Model output shape: (100, 100, 4)\n"
     ]
    },
    {
     "name": "stdout",
     "output_type": "stream",
     "text": [
      "2022-12-23 01:15:03,313 DEBUG   object_detection_load_model.py:45 : Categorizing the predictions\n"
     ]
    },
    {
     "name": "stderr",
     "output_type": "stream",
     "text": [
      "DEBUG:PalletDetection:Categorizing the predictions\n"
     ]
    },
    {
     "name": "stdout",
     "output_type": "stream",
     "text": [
      "2022-12-23 01:15:03,461 DEBUG   object_detection_load_model.py:50 : Number of categorized predictions: 100\n"
     ]
    },
    {
     "name": "stderr",
     "output_type": "stream",
     "text": [
      "DEBUG:PalletDetection:Number of categorized predictions: 100\n"
     ]
    },
    {
     "name": "stdout",
     "output_type": "stream",
     "text": [
      "2022-12-23 01:15:03,466 DEBUG   object_detection_load_model.py:53 : Filtering the predictions based on their confidence threshold\n"
     ]
    },
    {
     "name": "stderr",
     "output_type": "stream",
     "text": [
      "DEBUG:PalletDetection:Filtering the predictions based on their confidence threshold\n"
     ]
    },
    {
     "name": "stdout",
     "output_type": "stream",
     "text": [
      "2022-12-23 01:15:03,476 DEBUG   object_detection_load_model.py:65 : Number of predictions after filtration process: 100\n"
     ]
    },
    {
     "name": "stderr",
     "output_type": "stream",
     "text": [
      "DEBUG:PalletDetection:Number of predictions after filtration process: 100\n"
     ]
    },
    {
     "name": "stdout",
     "output_type": "stream",
     "text": [
      "2022-12-23 01:15:03,486 INFO    object_detection_load_model.py:74 : Calculating the TP, FP and FN of the predictions\n"
     ]
    },
    {
     "name": "stderr",
     "output_type": "stream",
     "text": [
      "INFO:PalletDetection:Calculating the TP, FP and FN of the predictions\n"
     ]
    },
    {
     "name": "stdout",
     "output_type": "stream",
     "text": [
      "2022-12-23 01:15:03,552 DEBUG   object_detection_load_model.py:93 : Car's evaluation: 0.52, 0.21\n"
     ]
    },
    {
     "name": "stderr",
     "output_type": "stream",
     "text": [
      "DEBUG:PalletDetection:Car's evaluation: 0.52, 0.21\n"
     ]
    },
    {
     "name": "stdout",
     "output_type": "stream",
     "text": [
      "2022-12-23 01:15:03,557 DEBUG   object_detection_load_model.py:96 : Pedestrians's evaluation: 0.24, 0.17\n"
     ]
    },
    {
     "name": "stderr",
     "output_type": "stream",
     "text": [
      "DEBUG:PalletDetection:Pedestrians's evaluation: 0.24, 0.17\n"
     ]
    },
    {
     "name": "stdout",
     "output_type": "stream",
     "text": [
      "2022-12-23 01:15:03,564 DEBUG   object_detection_load_model.py:139 : All configuration predictions done\n"
     ]
    },
    {
     "name": "stderr",
     "output_type": "stream",
     "text": [
      "DEBUG:PalletDetection:All configuration predictions done\n"
     ]
    },
    {
     "name": "stdout",
     "output_type": "stream",
     "text": [
      "2022-12-23 01:15:03,567 DEBUG   object_detection.py:55      : Result lengths: 14, 14, 14, 14, 14\n"
     ]
    },
    {
     "name": "stderr",
     "output_type": "stream",
     "text": [
      "DEBUG:PalletDetection:Result lengths: 14, 14, 14, 14, 14\n"
     ]
    },
    {
     "name": "stdout",
     "output_type": "stream",
     "text": [
      "2022-12-23 01:15:03,570 INFO    object_detection.py:65      : Average precision cars: 0.156\n"
     ]
    },
    {
     "name": "stderr",
     "output_type": "stream",
     "text": [
      "INFO:PalletDetection:Average precision cars: 0.156\n"
     ]
    },
    {
     "name": "stdout",
     "output_type": "stream",
     "text": [
      "2022-12-23 01:15:03,573 INFO    object_detection.py:66      : Average precision pedestrians: 0.018\n"
     ]
    },
    {
     "name": "stderr",
     "output_type": "stream",
     "text": [
      "INFO:PalletDetection:Average precision pedestrians: 0.018\n"
     ]
    },
    {
     "name": "stdout",
     "output_type": "stream",
     "text": [
      "2022-12-23 01:15:03,576 INFO    object_detection.py:67      : Mean-average-precision: 0.087\n"
     ]
    },
    {
     "name": "stderr",
     "output_type": "stream",
     "text": [
      "INFO:PalletDetection:Mean-average-precision: 0.087\n"
     ]
    }
   ],
   "source": [
    "result = ObjectDetect().predict()"
   ]
  },
  {
   "cell_type": "code",
   "execution_count": 4,
   "metadata": {
    "id": "x5qDTjuTLe1D"
   },
   "outputs": [],
   "source": [
    "# Thresholds used for evaluation (mentioned in the confg.ini during execution)\n",
    "\"\"\"\n",
    "cars_iou_th         = 0.5, 0.5, 0.5, 0.5, 0.5, 0.5, 0.5, 0.5, 0.5, 0.5, 0.5, 0.5, 0.5, 0.5\n",
    "cars_conf_th        = 0.1, 0.15, 0.2, 0.25, 0.3, 0.35, 0.4, 0.45, 0.5, 0.55, 0.6, 0.65, 0.7, 0.75\n",
    "pedestrians_iou_th  = 0.5, 0.5, 0.5, 0.5, 0.5, 0.5, 0.5, 0.5, 0.5, 0.5, 0.5, 0.5, 0.5, 0.5\n",
    "pedestrians_conf_th = 0.1, 0.115, 0.13, 0.145, 0.16, 0.175, 0.19, 0.205, 0.22, 0.235, 0.25, 0.265, 0.28, 0.295\n",
    "\"\"\""
   ]
  },
  {
   "cell_type": "code",
   "execution_count": 5,
   "metadata": {
    "colab": {
     "base_uri": "https://localhost:8080/"
    },
    "id": "6Qg0gGkWK8ZA",
    "outputId": "005ed25c-f292-4014-ffc9-f780ad780c03"
   },
   "outputs": [
    {
     "data": {
      "text/plain": [
       "dict_keys(['cars-recall', 'cars-precision', 'cars-avg-precision', 'pedestrians-avg-precision', 'map', 'pedestrians-recall', 'pedestrians-precision', 'cars-conf-threshold', 'cars-iou-threshold', 'pedestrians-conf-threshold', 'pedestrians-iou-threshold', 'model_inference_time', 'over_all_inference_time'])"
      ]
     },
     "execution_count": 5,
     "metadata": {},
     "output_type": "execute_result"
    }
   ],
   "source": [
    "result.keys()"
   ]
  },
  {
   "cell_type": "markdown",
   "metadata": {
    "id": "Ql2Y6DqwLFpr",
    "tags": []
   },
   "source": [
    "## Precision recall graph for car's prediction"
   ]
  },
  {
   "cell_type": "code",
   "execution_count": 6,
   "metadata": {
    "colab": {
     "base_uri": "https://localhost:8080/",
     "height": 300
    },
    "id": "PH-9En83LC1I",
    "outputId": "d29adc4d-789a-431b-d516-7ea88709c94e"
   },
   "outputs": [
    {
     "data": {
      "image/png": "[encoded data removed]",
      "text/plain": [
       "<Figure size 432x288 with 1 Axes>"
      ]
     },
     "metadata": {
      "needs_background": "light"
     },
     "output_type": "display_data"
    }
   ],
   "source": [
    "plot_precision_recall_curve(result[\"cars-recall\"], result[\"cars-precision\"], result[\"cars-conf-threshold\"])"
   ]
  },
  {
   "cell_type": "markdown",
   "metadata": {
    "id": "ZCgczuBdLNGQ"
   },
   "source": [
    "## Precision recall graph for pedestrians's prediction"
   ]
  },
  {
   "cell_type": "code",
   "execution_count": 7,
   "metadata": {
    "colab": {
     "base_uri": "https://localhost:8080/",
     "height": 300
    },
    "id": "8CtP4f9TLIxx",
    "outputId": "4302e22a-4668-4b24-e19c-745db881da9e"
   },
   "outputs": [
    {
     "data": {
      "image/png": "[encoded data removed]",
      "text/plain": [
       "<Figure size 432x288 with 1 Axes>"
      ]
     },
     "metadata": {
      "needs_background": "light"
     },
     "output_type": "display_data"
    }
   ],
   "source": [
    "plot_precision_recall_curve(result[\"pedestrians-recall\"], result[\"pedestrians-precision\"], result[\"pedestrians-conf-threshold\"])"
   ]
  },
  {
   "cell_type": "markdown",
   "metadata": {
    "id": "9RUazmZkhrdz"
   },
   "source": [
    "## MAP and APs"
   ]
  },
  {
   "cell_type": "code",
   "execution_count": 8,
   "metadata": {
    "colab": {
     "base_uri": "https://localhost:8080/"
    },
    "id": "kEzJUAWmgHXW",
    "outputId": "a496e1ee-fc82-458d-c12a-84634f2258b7"
   },
   "outputs": [
    {
     "name": "stdout",
     "output_type": "stream",
     "text": [
      "MAP:            0.09\n",
      "Car AP:         0.16\n",
      "Pedestrians AP: 0.02\n"
     ]
    }
   ],
   "source": [
    "print(\"MAP:            %.2f\" %result[\"map\"])\n",
    "print(\"Car AP:         %.2f\" %result[\"cars-avg-precision\"])\n",
    "print(\"Pedestrians AP: %.2f\" %result[\"pedestrians-avg-precision\"])"
   ]
  },
  {
   "cell_type": "markdown",
   "metadata": {
    "id": "NuqNxPYsXL25"
   },
   "source": [
    "## Model Inference time"
   ]
  },
  {
   "cell_type": "code",
   "execution_count": 9,
   "metadata": {
    "colab": {
     "base_uri": "https://localhost:8080/"
    },
    "id": "SJUy72-gLPvh",
    "outputId": "840816fe-9292-4d19-aaca-1944972db2e6"
   },
   "outputs": [
    {
     "data": {
      "text/plain": [
       "9.388922453158367"
      ]
     },
     "execution_count": 9,
     "metadata": {},
     "output_type": "execute_result"
    }
   ],
   "source": [
    "result[\"model_inference_time\"]"
   ]
  },
  {
   "cell_type": "markdown",
   "metadata": {
    "id": "9OSad3R_XOne"
   },
   "source": [
    "## Model overall inference time"
   ]
  },
  {
   "cell_type": "code",
   "execution_count": 10,
   "metadata": {
    "colab": {
     "base_uri": "https://localhost:8080/"
    },
    "id": "iik-lheoXJqT",
    "outputId": "aa9cd768-e2b1-41d4-9c98-f8dc580a1859"
   },
   "outputs": [
    {
     "data": {
      "text/plain": [
       "9.22991052809888"
      ]
     },
     "execution_count": 10,
     "metadata": {},
     "output_type": "execute_result"
    }
   ],
   "source": [
    "result[\"over_all_inference_time\"]"
   ]
  },
  {
   "cell_type": "code",
   "execution_count": 12,
   "metadata": {
    "id": "GyRtPadncsqA"
   },
   "outputs": [],
   "source": [
    "# Saving the result for future reference\n",
    "with open(\"model_evaluation.pickle\", \"wb\") as f:\n",
    "  pickle.dump(result, f)"
   ]
  },
  {
   "cell_type": "code",
   "execution_count": null,
   "metadata": {
    "id": "JrEMWCb9ianI"
   },
   "outputs": [],
   "source": []
  }
 ],
 "metadata": {
  "colab": {
   "provenance": []
  },
  "kernelspec": {
   "display_name": "Python 3 (ipykernel)",
   "language": "python",
   "name": "python3"
  },
  "language_info": {
   "codemirror_mode": {
    "name": "ipython",
    "version": 3
   },
   "file_extension": ".py",
   "mimetype": "text/x-python",
   "name": "python",
   "nbconvert_exporter": "python",
   "pygments_lexer": "ipython3",
   "version": "3.9.7"
  }
 },
 "nbformat": 4,
 "nbformat_minor": 4
}
